{
 "cells": [
  {
   "cell_type": "markdown",
   "metadata": {},
   "source": [
    "#Basic Math Needed for Data Science\n",
    "\n",
    "The following are the general topics required for Data Science according to PoDS:\n",
    "1. Vectors and Matrices - what they are\n",
    "2. Summation - what the notation means\n",
    "3. Proportion - alpha means proportion\n",
    "4. Dot Product - what this is an how it applies to movie recommendation\n",
    "5. Graphs(Cartesian) - discusses slope and rate of change, \n",
    "6. Logarithms and Exponents\n",
    "7. Set Theory\n",
    "8. Linear Algebra"
   ]
  },
  {
   "cell_type": "markdown",
   "metadata": {},
   "source": [
    "As is standard math/cs fashion, the books makes a distinction between the labelling of sequences, math starts at 1, CS starts at 0.\n",
    "\n",
    "The books first introduces pandas Series then says you can think of vectors as math generalizations of a pandas Series, I like this! I assume matrices would generalize dataframe."
   ]
  },
  {
   "cell_type": "code",
   "execution_count": 16,
   "metadata": {},
   "outputs": [
    {
     "data": {
      "text/plain": [
       "17"
      ]
     },
     "execution_count": 16,
     "metadata": {},
     "output_type": "execute_result"
    }
   ],
   "source": [
    "import numpy as np\n",
    "x = np.array([3, 6, 8])\n",
    "sum(x)"
   ]
  },
  {
   "cell_type": "code",
   "execution_count": 2,
   "metadata": {},
   "outputs": [
    {
     "data": {
      "text/plain": [
       "15"
      ]
     },
     "execution_count": 2,
     "metadata": {},
     "output_type": "execute_result"
    }
   ],
   "source": [
    "x= np.array([1, 2, 3, 4, 5])\n",
    "sum(x)"
   ]
  },
  {
   "cell_type": "markdown",
   "metadata": {},
   "source": [
    "Interesting use of dot product, make a vector for users preference for movies, then represents movies as a vector and uses dot product comparison to compare the preference for which movie."
   ]
  },
  {
   "cell_type": "code",
   "execution_count": 15,
   "metadata": {},
   "outputs": [
    {
     "name": "stdout",
     "output_type": "stream",
     "text": [
      "Minimum score: 3\n",
      "Movie 1 score: 28\n",
      "Movie 2 score: 41\n",
      "Minimum score: 75\n"
     ]
    }
   ],
   "source": [
    "customer_preference = np.array([5, 1, 3]) #love comedy movies, hate romantic movies, indifferent to action movies\n",
    "\n",
    "#say we have two new movies, each with characteristics of comedy, romance and action in that order, dot product can then be used to compare the two\n",
    "movie1 = np.array([4, 5, 1])\n",
    "movie2 = np.array([5, 1, 5])\n",
    "\n",
    "print(\"Minimum score: \" + str(np.array([1, 1, 1]).dot(np.array([1, 1, 1]))))\n",
    "print(\"Movie 1 score: \" + str(customer_preference.dot(movie1)))\n",
    "print(\"Movie 2 score: \" + str(customer_preference.dot(movie2)))\n",
    "print(\"Minimum score: \" + str(np.array([5, 5, 5]).dot(np.array([5, 5, 5]))))"
   ]
  },
  {
   "cell_type": "markdown",
   "metadata": {},
   "source": [
    "Based on the scores above, movie 2 is predicted to be preferred by the customer with the preference profile above. Book says that this is the basis for how most movie prediction engines work - but much more complicated."
   ]
  },
  {
   "cell_type": "code",
   "execution_count": 18,
   "metadata": {},
   "outputs": [
    {
     "name": "stdout",
     "output_type": "stream",
     "text": [
      "{1, 2, 3}\n"
     ]
    }
   ],
   "source": [
    "#set theory \n",
    "s= set()\n",
    "s = set([1, 2, 2, 3, 2, 1, 2, 2, 3, 2])\n",
    "# will remove duplicates from a list\n",
    "\n",
    "print(s)"
   ]
  },
  {
   "cell_type": "markdown",
   "metadata": {},
   "source": [
    "In python, the curly brackets refer to sets and dictionaries. The reason this is true is because sets can't have duplicate elements, while dictionaries can't have duplicate keys."
   ]
  },
  {
   "cell_type": "code",
   "execution_count": 21,
   "metadata": {},
   "outputs": [
    {
     "name": "stdout",
     "output_type": "stream",
     "text": [
      "human's best friend\n"
     ]
    },
    {
     "data": {
      "text/plain": [
       "18"
      ]
     },
     "execution_count": 21,
     "metadata": {},
     "output_type": "execute_result"
    }
   ],
   "source": [
    "dict = {\"dog\": \"human's best friend\", \"cat\": \"destroyer of world\"}\n",
    "print(dict[\"dog\"])\n",
    "len(dict[\"cat\"])"
   ]
  },
  {
   "cell_type": "markdown",
   "metadata": {},
   "source": [
    "Set theory becomes highly prevalent when we enter the world of probability and also when dealing with high-dimensional data. The book says it will use sets to represent real-world events taking palce, and probability becomes set theory with vocabulary on top of it.\n",
    "\n",
    "I'm also enjoying that the book is making errors and I'm fixing them. When I was younger I would just blindly follow these errors and kind of get mad at them and let it bother me. Now I let them go and fix them when appropriate without it hurting my ego."
   ]
  },
  {
   "cell_type": "code",
   "execution_count": 24,
   "metadata": {},
   "outputs": [
    {
     "name": "stdout",
     "output_type": "stream",
     "text": [
      "0.2\n"
     ]
    }
   ],
   "source": [
    "user1 = {\"Target\", \"Banana Republic\", \"Old Navy\"}\n",
    "user2 = {\"Banana Republic\", \"Gap\", \"Kohl's\"}\n",
    "\n",
    "def jaccard(user1, user2):\n",
    "    stores_in_common=len(user1 & user2) #& must be intersection\n",
    "    stores_all_together=len(user1 | user2) #| must be union\n",
    "    return float(stores_in_common)/float(stores_all_together)\n",
    "\n",
    "print(jaccard(user1, user2))"
   ]
  },
  {
   "cell_type": "markdown",
   "metadata": {},
   "source": [
    "In this next bit of code, I'm going to use matrix multiplication to produce a vector of movie preferences (dot products)"
   ]
  },
  {
   "cell_type": "code",
   "execution_count": 25,
   "metadata": {},
   "outputs": [],
   "source": [
    "#create user preferences\n",
    "user_pref=np.array([5, 1, 3])\n",
    "\n",
    "#create a random movie matrix of 10,000 movies\n",
    "movies = np.random.randint(5, size=(3, 10000))+1\n",
    "\n",
    "#note that randint will make random integer from 0-4\n",
    "#so 1 is added to increase scale from 1 to 5"
   ]
  },
  {
   "cell_type": "code",
   "execution_count": 26,
   "metadata": {},
   "outputs": [
    {
     "name": "stdout",
     "output_type": "stream",
     "text": [
      "(3,)\n",
      "(3, 10000)\n"
     ]
    }
   ],
   "source": [
    "print(user_pref.shape)\n",
    "print(movies.shape)"
   ]
  },
  {
   "cell_type": "code",
   "execution_count": 27,
   "metadata": {},
   "outputs": [
    {
     "data": {
      "text/plain": [
       "array([17, 35, 24, ..., 17, 41, 34])"
      ]
     },
     "execution_count": 27,
     "metadata": {},
     "output_type": "execute_result"
    }
   ],
   "source": [
    "#np.dot does dot products and matrix multiplication\n",
    "np.dot(user_pref, movies)"
   ]
  },
  {
   "cell_type": "code",
   "execution_count": 29,
   "metadata": {},
   "outputs": [
    {
     "name": "stdout",
     "output_type": "stream",
     "text": [
      "0.0 seconds to run 10000 movies\n",
      "0.0019953250885009766 seconds to run 100000 movies\n",
      "0.029924869537353516 seconds to run 1000000 movies\n",
      "0.12466597557067871 seconds to run 10000000 movies\n",
      "1.3989839553833008 seconds to run 100000000 movies\n"
     ]
    }
   ],
   "source": [
    "import time\n",
    "\n",
    "for num_movies in (10000, 100000, 1000000, 10000000, 100000000):\n",
    "    movies = np.random.randint(5, size=(3, num_movies))+1\n",
    "    now = time.time()\n",
    "    np.dot(user_pref, movies)\n",
    "    print((time.time() - now), \"seconds to run\", num_movies, \"movies\")"
   ]
  },
  {
   "cell_type": "markdown",
   "metadata": {},
   "source": [
    "Hurray, we quickly looked at 100,000,000 movies using matrix multiplication!"
   ]
  },
  {
   "cell_type": "code",
   "execution_count": null,
   "metadata": {},
   "outputs": [],
   "source": []
  }
 ],
 "metadata": {
  "kernelspec": {
   "display_name": "Python 3",
   "language": "python",
   "name": "python3"
  },
  "language_info": {
   "codemirror_mode": {
    "name": "ipython",
    "version": 3
   },
   "file_extension": ".py",
   "mimetype": "text/x-python",
   "name": "python",
   "nbconvert_exporter": "python",
   "pygments_lexer": "ipython3",
   "version": "3.8.4"
  }
 },
 "nbformat": 4,
 "nbformat_minor": 4
}
