{
 "cells": [
  {
   "cell_type": "markdown",
   "metadata": {},
   "source": [
    "# Machine Learning Cheat Sheet\n",
    "This is a sheet where I list steps & things to try in each phase of Machine Learning. I expect experienced data analysts will know these, but this will help me"
   ]
  },
  {
   "cell_type": "markdown",
   "metadata": {},
   "source": [
    "## Basic data cleaning & processing\n",
    "- Deal with empty entries\n",
    "  - remove rows\n",
    "  - enter average\n",
    "  - enter another context dependent number\n",
    "- remove spurious columns\n",
    "- convert nominal data to binary columns with dummy variables (dummy columns), pandas has ```pd.get_dummies``` to simplify this\n",
    "- normalize the data\n",
    "- "
   ]
  }
 ],
 "metadata": {
  "kernelspec": {
   "display_name": "Python 3",
   "language": "python",
   "name": "python3"
  },
  "language_info": {
   "codemirror_mode": {
    "name": "ipython",
    "version": 3
   },
   "file_extension": ".py",
   "mimetype": "text/x-python",
   "name": "python",
   "nbconvert_exporter": "python",
   "pygments_lexer": "ipython3",
   "version": "3.8.4"
  }
 },
 "nbformat": 4,
 "nbformat_minor": 4
}
