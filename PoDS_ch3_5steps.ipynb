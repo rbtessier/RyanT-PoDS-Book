{
 "cells": [
  {
   "cell_type": "markdown",
   "metadata": {},
   "source": [
    "# 5 Steps of Data Science\n",
    "\n",
    "## Intro to Data Science\n",
    "\n",
    "*The difference between Data Science and Data Analytics is that Data Science follows a structured, step-by-step process that, when followed, preserves the integrity of the results.*\n",
    "\n",
    "## Overview of the 5 steps of Data Science\n",
    "\n",
    "1. Asking an interesting question\n",
    "2. Obtaining the data\n",
    "3. Exploring the data\n",
    "4. Modeling the data\n",
    "5. Communicating and visualizing the results\n",
    "\n",
    "## Exploring the Data\n",
    "\n",
    "### Basic Questions for Data Exploration\n",
    "\n",
    "- Is the data organized or not?\n",
    "- What does each row represent?\n",
    "- What does each column represent\n",
    "- Are there any missing data points?\n",
    "- Do we need to perform any transformations on the columns?\n",
    "\n",
    "<font color = red> Ryan's note: These all are obvious questions asked in the work done to prepare the data in the Automated Machine Learning assignments. AToW I haven't done the non-automated online modules, but I suspect this will be apparent there as well. </font>\n",
    "\n",
    "All the while, we should be asking ourselves the overall question: **what can we infer from the preliminary inferential statistics?**\n",
    "\n",
    "To see more go to /Kaggle Housing/ access CH3 PODS Kaggle housing file there which has the examples from chapter 3 used on Kaggle.com housing data to start preprocession for future machine learning task."
   ]
  },
  {
   "cell_type": "code",
   "execution_count": null,
   "metadata": {},
   "outputs": [],
   "source": []
  }
 ],
 "metadata": {
  "kernelspec": {
   "display_name": "Python 3",
   "language": "python",
   "name": "python3"
  },
  "language_info": {
   "codemirror_mode": {
    "name": "ipython",
    "version": 3
   },
   "file_extension": ".py",
   "mimetype": "text/x-python",
   "name": "python",
   "nbconvert_exporter": "python",
   "pygments_lexer": "ipython3",
   "version": "3.8.4"
  }
 },
 "nbformat": 4,
 "nbformat_minor": 4
}
