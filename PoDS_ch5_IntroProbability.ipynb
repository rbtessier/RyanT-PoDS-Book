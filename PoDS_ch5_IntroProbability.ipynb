{
 "cells": [
  {
   "cell_type": "markdown",
   "metadata": {},
   "source": [
    "### Probability\n",
    "\n",
    "This chapter gives an introduction to basic probability, approaching it from a **frequentist perspective**: where the probability of an event is calculated through experimentation. Ie. if $A$ is an event,\n",
    "\n",
    "$$P(A)=\\frac{\\text{number of times }A\\text{ occured}}{\\text{number of times the procedure was repeated}}$$\n",
    "\n",
    "Probability topics covered include\n",
    "- Law of Large Numbers\n",
    "- Compound Events + Venn Diagrams\n",
    "- Conditional Probability\n",
    "- Rules of probability, including\n",
    "  - The Addition Rule\n",
    "  - Mutual Exclusivity\n",
    "  - The Multiplication Rule\n",
    "  - Independence\n",
    "  - Complementary Events\n",
    "- Confusion Matrices including Type 1 Errors (false positives) and Type 2 Error (false negatives)\n",
    "\n",
    "**There isn't a lot of python in this chapter, so what I would like to do with this is to create my own for checking basic probability in some of the same ways as in the next chapter**. This is for a future Programming and Math course I would like to teach. The one bit of python is a demonstration of the law of large numbers, which I have included below."
   ]
  },
  {
   "cell_type": "code",
   "execution_count": 4,
   "metadata": {},
   "outputs": [
    {
     "name": "stdout",
     "output_type": "stream",
     "text": [
      "9999\n",
      "      means\n",
      "0  8.000000\n",
      "1  6.000000\n",
      "2  4.333333\n",
      "3  7.250000\n",
      "4  4.200000\n"
     ]
    }
   ],
   "source": [
    "import numpy as np\n",
    "import pandas as pd\n",
    "from matplotlib import pyplot as plt\n",
    "%matplotlib inline\n",
    "results = []\n",
    "\n",
    "for n in range (1, 10000):\n",
    "    nums = np.random.randint(low=1, high=10, size=n) #choose n numbers between 1 and 10\n",
    "    mean = nums.mean() #find the average of these numbers\n",
    "    results.append(mean) #add the average to a running list\n",
    "    \n",
    "print(len(results))\n",
    "df=pd.DataFrame({'means' : results})\n",
    "print(df.head())\n",
    "#averages in the beginning all over the place"
   ]
  },
  {
   "cell_type": "code",
   "execution_count": 5,
   "metadata": {},
   "outputs": [
    {
     "name": "stdout",
     "output_type": "stream",
     "text": [
      "         means\n",
      "9994  4.992796\n",
      "9995  4.997799\n",
      "9996  5.007602\n",
      "9997  5.007001\n",
      "9998  5.019802\n"
     ]
    }
   ],
   "source": [
    "print(df.tail()) #as n, our size of the sample size, increases, the averages get closer to 5!"
   ]
  },
  {
   "cell_type": "code",
   "execution_count": 6,
   "metadata": {},
   "outputs": [
    {
     "data": {
      "text/plain": [
       "Text(0, 0.5, 'Average of Sample')"
      ]
     },
     "execution_count": 6,
     "metadata": {},
     "output_type": "execute_result"
    },
    {
     "data": {
      "image/png": "[encoded data removed]",
      "text/plain": [
       "<Figure size 432x288 with 1 Axes>"
      ]
     },
     "metadata": {
      "needs_background": "light"
     },
     "output_type": "display_data"
    }
   ],
   "source": [
    "df.plot(title='Law of Large Numbers')\n",
    "plt.xlabel(\"number of throws in sample\")\n",
    "plt.ylabel(\"Average of Sample\")"
   ]
  },
  {
   "cell_type": "code",
   "execution_count": null,
   "metadata": {},
   "outputs": [],
   "source": []
  }
 ],
 "metadata": {
  "kernelspec": {
   "display_name": "Python 3",
   "language": "python",
   "name": "python3"
  },
  "language_info": {
   "codemirror_mode": {
    "name": "ipython",
    "version": 3
   },
   "file_extension": ".py",
   "mimetype": "text/x-python",
   "name": "python",
   "nbconvert_exporter": "python",
   "pygments_lexer": "ipython3",
   "version": "3.8.4"
  }
 },
 "nbformat": 4,
 "nbformat_minor": 4
}
