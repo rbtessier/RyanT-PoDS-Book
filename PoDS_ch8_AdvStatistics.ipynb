{
 "cells": [
  {
   "cell_type": "markdown",
   "metadata": {},
   "source": [
    "# Advanced Statistics\n",
    "\n",
    "Topics covered\n",
    "- Point Estimates\n",
    "- Sampling distributions\n",
    "- Confidence Intervals\n",
    "- The Central Limit Theorem\n",
    "- Hypothesis Testing\n",
    "  - $T$-tests\n",
    "  - $\\chi^2$-test\n",
    "  - $\\chi^2$-test for independence"
   ]
  },
  {
   "cell_type": "code",
   "execution_count": 29,
   "metadata": {},
   "outputs": [],
   "source": [
    "import numpy as np\n",
    "import pandas as pd\n",
    "from scipy import stats\n",
    "from scipy.stats import poisson\n",
    "np.random.seed(1234)\n",
    "\n",
    "long_breaks = stats.poisson.rvs(loc=10, mu=60, size=3000)\n",
    "#represents 3000 people who take about a 60 minute break"
   ]
  },
  {
   "cell_type": "code",
   "execution_count": 30,
   "metadata": {},
   "outputs": [
    {
     "data": {
      "text/plain": [
       "<AxesSubplot:>"
      ]
     },
     "execution_count": 30,
     "metadata": {},
     "output_type": "execute_result"
    },
    {
     "data": {
      "image/png": "[encoded data removed]",
      "text/plain": [
       "<Figure size 432x288 with 1 Axes>"
      ]
     },
     "metadata": {
      "needs_background": "light"
     },
     "output_type": "display_data"
    }
   ],
   "source": [
    "pd.Series(long_breaks).hist()"
   ]
  },
  {
   "cell_type": "code",
   "execution_count": 31,
   "metadata": {},
   "outputs": [],
   "source": [
    "short_breaks = stats.poisson.rvs(loc=10, mu=15, size=6000)\n",
    "\n",
    "#represents 6000 people who take about a 15 minute break"
   ]
  },
  {
   "cell_type": "code",
   "execution_count": 32,
   "metadata": {},
   "outputs": [
    {
     "data": {
      "text/plain": [
       "<AxesSubplot:>"
      ]
     },
     "execution_count": 32,
     "metadata": {},
     "output_type": "execute_result"
    },
    {
     "data": {
      "image/png": "[encoded data removed]",
      "text/plain": [
       "<Figure size 432x288 with 1 Axes>"
      ]
     },
     "metadata": {
      "needs_background": "light"
     },
     "output_type": "display_data"
    }
   ],
   "source": [
    "pd.Series(short_breaks).hist()"
   ]
  },
  {
   "cell_type": "code",
   "execution_count": 35,
   "metadata": {},
   "outputs": [],
   "source": [
    "breaks = np.concatenate((long_breaks, short_breaks))"
   ]
  },
  {
   "cell_type": "code",
   "execution_count": 36,
   "metadata": {},
   "outputs": [
    {
     "data": {
      "text/plain": [
       "<AxesSubplot:>"
      ]
     },
     "execution_count": 36,
     "metadata": {},
     "output_type": "execute_result"
    },
    {
     "data": {
      "image/png": "[encoded data removed]",
      "text/plain": [
       "<Figure size 432x288 with 1 Axes>"
      ]
     },
     "metadata": {
      "needs_background": "light"
     },
     "output_type": "display_data"
    }
   ],
   "source": [
    "pd.Series(breaks).hist()"
   ]
  },
  {
   "cell_type": "code",
   "execution_count": 37,
   "metadata": {},
   "outputs": [
    {
     "data": {
      "text/plain": [
       "39.99944444444444"
      ]
     },
     "execution_count": 37,
     "metadata": {},
     "output_type": "execute_result"
    }
   ],
   "source": [
    "breaks.mean()"
   ]
  },
  {
   "cell_type": "code",
   "execution_count": 38,
   "metadata": {},
   "outputs": [
    {
     "name": "stdout",
     "output_type": "stream",
     "text": [
      "100\n"
     ]
    }
   ],
   "source": [
    "sample_breaks = np.random.choice(a=breaks, size=100)\n",
    "print(sample_breaks.size)"
   ]
  },
  {
   "cell_type": "code",
   "execution_count": 39,
   "metadata": {},
   "outputs": [
    {
     "name": "stdout",
     "output_type": "stream",
     "text": [
      "-1.140555555555558\n"
     ]
    }
   ],
   "source": [
    "print(breaks.mean() -  sample_breaks.mean())"
   ]
  },
  {
   "cell_type": "markdown",
   "metadata": {},
   "source": [
    "Book says this is all pretty cool that even at just over 1% of the population, we get reasonably close to the true mean"
   ]
  },
  {
   "cell_type": "code",
   "execution_count": 10,
   "metadata": {},
   "outputs": [
    {
     "name": "stdout",
     "output_type": "stream",
     "text": [
      "10000\n"
     ]
    }
   ],
   "source": [
    "employee_races = (['white']*2000) + (['black']*1000) +\\\n",
    "                    (['hispanic']*1000) + (['asian']*3000) +\\\n",
    "                    (['other']*3000)\n",
    "#note to self, the \\ at the end of those formulas, allow us to continue on the next line\n",
    "#interestingly, it throws an error if we even include comments after the \\\n",
    "#also note, that the multiplication operator allows us to multiply the ['race'] as many times as is multiplied by\n",
    "print(len(employee_races))\n",
    "#print(employee_races)"
   ]
  },
  {
   "cell_type": "code",
   "execution_count": 11,
   "metadata": {},
   "outputs": [
    {
     "name": "stdout",
     "output_type": "stream",
     "text": [
      "asian proportion estimate:\n",
      "0.349\n",
      "black proportion estimate:\n",
      "0.087\n",
      "other proportion estimate:\n",
      "0.304\n",
      "white proportion estimate:\n",
      "0.173\n",
      "hispanic proportion estimate:\n",
      "0.087\n"
     ]
    }
   ],
   "source": [
    "import random\n",
    "demo_sample = random.sample(employee_races, 1000) # sample 1000 values\n",
    "\n",
    "for race in set(demo_sample): #the set function ensures that the values are not repeated, so it only loops over unique races\n",
    "    print(race + ' proportion estimate:')\n",
    "    print( demo_sample.count(race)/1000.)"
   ]
  },
  {
   "cell_type": "markdown",
   "metadata": {},
   "source": [
    "Notice how the proportions are very close to those in the population! :)"
   ]
  },
  {
   "cell_type": "code",
   "execution_count": 12,
   "metadata": {},
   "outputs": [
    {
     "data": {
      "text/plain": [
       "array([[<AxesSubplot:title={'center':'0'}>]], dtype=object)"
      ]
     },
     "execution_count": 12,
     "metadata": {},
     "output_type": "execute_result"
    },
    {
     "data": {
      "image/png": "[encoded data removed]",
      "text/plain": [
       "<Figure size 432x288 with 1 Axes>"
      ]
     },
     "metadata": {
      "needs_background": "light"
     },
     "output_type": "display_data"
    }
   ],
   "source": [
    "pd.DataFrame(breaks).hist(bins=50, range=(5,100))"
   ]
  },
  {
   "cell_type": "code",
   "execution_count": 13,
   "metadata": {},
   "outputs": [
    {
     "data": {
      "text/plain": [
       "array([[<AxesSubplot:title={'center':'0'}>]], dtype=object)"
      ]
     },
     "execution_count": 13,
     "metadata": {},
     "output_type": "execute_result"
    },
    {
     "data": {
      "image/png": "[encoded data removed]",
      "text/plain": [
       "<Figure size 432x288 with 1 Axes>"
      ]
     },
     "metadata": {
      "needs_background": "light"
     },
     "output_type": "display_data"
    }
   ],
   "source": [
    "point_estimate=[]\n",
    "\n",
    "for x in range(500):\n",
    "    sample = np.random.choice(a = breaks, size = 100)\n",
    "    point_estimate.append(sample.mean())\n",
    "\n",
    "pd.DataFrame(point_estimate).hist()"
   ]
  },
  {
   "cell_type": "code",
   "execution_count": 14,
   "metadata": {},
   "outputs": [
    {
     "data": {
      "text/plain": [
       "0.04232444444443928"
      ]
     },
     "execution_count": 14,
     "metadata": {},
     "output_type": "execute_result"
    }
   ],
   "source": [
    "breaks.mean() - np.array(point_estimate).mean()"
   ]
  },
  {
   "cell_type": "markdown",
   "metadata": {},
   "source": [
    "Look at how close the mean of the point estimates is to the population mean! This is the central limit theorem in action!!! Infact, the mean of the point estimates is much closer than the mean of the samples. In general as we increase the number of samples taken, our estimate will get closer to the parameter."
   ]
  },
  {
   "cell_type": "code",
   "execution_count": 15,
   "metadata": {},
   "outputs": [
    {
     "data": {
      "text/plain": [
       "(36.29263468910625, 45.26736531089375)"
      ]
     },
     "execution_count": 15,
     "metadata": {},
     "output_type": "execute_result"
    }
   ],
   "source": [
    "import math\n",
    "sample_size = 100\n",
    "\n",
    "sample = np.random.choice(a=breaks, size = sample_size)\n",
    "\n",
    "sample_mean=sample.mean()\n",
    "\n",
    "sample_stdev=sample.std()\n",
    "\n",
    "sigma = sample_stdev/math.sqrt(sample_size)\n",
    "\n",
    "stats.t.interval(alpha=0.95,\n",
    "                df = sample_size - 1,\n",
    "                loc = sample_mean,\n",
    "                scale = sigma)\n"
   ]
  },
  {
   "cell_type": "markdown",
   "metadata": {},
   "source": [
    "The range above represents the confidence interval for the average break time with 95% confidence. Note that this includes our population parameter 39.99. Confidence interval is the percent chance that the interval will contain the population parameter."
   ]
  },
  {
   "cell_type": "code",
   "execution_count": 16,
   "metadata": {},
   "outputs": [],
   "source": [
    "# function to make confidence interval\n",
    "def makeConfidenceInterval():\n",
    "    sample_size=100\n",
    "    sample=np.random.choice(a=breaks, size=sample_size)\n",
    "    \n",
    "    sample_mean=sample.mean()\n",
    "    \n",
    "    sample_stdev=sample.std()\n",
    "    \n",
    "    sigma = sample_stdev/math.sqrt(sample_size)\n",
    "    \n",
    "    return stats.t.interval(alpha=.95, df=sample_size-1, loc=sample_mean, scale=sigma)"
   ]
  },
  {
   "cell_type": "markdown",
   "metadata": {},
   "source": [
    "To illustrate the 95% chance that the population parameter falls into the confidence intervals, we will \n",
    "1. take 10,000 confidence intervals of the sample mean\n",
    "2. count the number of times the population parameter falls into our confidence intervals.\n",
    "3. Output the ratio of the number of times the parameter fell into the interval by 10,000:"
   ]
  },
  {
   "cell_type": "code",
   "execution_count": 17,
   "metadata": {},
   "outputs": [
    {
     "name": "stdout",
     "output_type": "stream",
     "text": [
      "0.9469\n"
     ]
    }
   ],
   "source": [
    "times_in_interval=0\n",
    "population_mean= breaks.mean()\n",
    "for i in range(10000):\n",
    "    interval = makeConfidenceInterval()\n",
    "    if population_mean >= interval[0] and population_mean <=interval[1]:\n",
    "        times_in_interval += 1\n",
    "print(times_in_interval/10000)"
   ]
  },
  {
   "cell_type": "markdown",
   "metadata": {},
   "source": [
    "And there we have it, the population mean falls into about 95% of our confidence intervals! COOL!\n",
    "\n",
    "Next we'll take a quick look at how the size of confidence intervals changes as we change our confidence level."
   ]
  },
  {
   "cell_type": "code",
   "execution_count": 18,
   "metadata": {},
   "outputs": [
    {
     "name": "stdout",
     "output_type": "stream",
     "text": [
      "confidence 0.5 has an interval of size 3.06\n",
      "confidence 0.8 has an interval of size 5.84\n",
      "confidence 0.85 has an interval of size 6.56\n",
      "confidence 0.9 has an interval of size 7.51\n",
      "confidence 0.95 has an interval of size 8.97\n",
      "confidence 0.99 has an interval of size 11.88\n"
     ]
    }
   ],
   "source": [
    "for confidence in (.5, .8, .85, .9, .95, .99):\n",
    "    confidence_interval = stats.t.interval(alpha = confidence, df=sample_size-1, loc=sample_mean, scale=sigma)\n",
    "    \n",
    "    length_of_interval = round(confidence_interval[1] - confidence_interval[0], 2)\n",
    "    \n",
    "    print ('confidence {0} has an interval of size {1}'.format(confidence, length_of_interval))"
   ]
  },
  {
   "cell_type": "markdown",
   "metadata": {},
   "source": [
    "And *voila*, if we wish to be *more confidence* in our interval, the interval expands to compensate"
   ]
  },
  {
   "cell_type": "markdown",
   "metadata": {},
   "source": [
    "Now we move into Hypothesis testing, starting with one sample *t*-tests.\n",
    "\n",
    "Slightly different from last time: smaller sample from Poisson dist to simulate 400 from Engineering, and also smaller mean to simulate that engineering dept's break behavior isn't same as company's behaviour as whole."
   ]
  },
  {
   "cell_type": "code",
   "execution_count": 19,
   "metadata": {},
   "outputs": [
    {
     "name": "stdout",
     "output_type": "stream",
     "text": [
      "39.99944444444444\n"
     ]
    }
   ],
   "source": [
    "long_breaks_in_engineering = stats.poisson.rvs(loc=10, mu=55, size=100)\n",
    "\n",
    "short_breaks_in_engineering = stats.poisson.rvs(loc=10, mu=15, size=300)\n",
    "\n",
    "engineering_breaks = np.concatenate((long_breaks_in_engineering, short_breaks_in_engineering))\n",
    "\n",
    "print(breaks.mean())"
   ]
  },
  {
   "cell_type": "code",
   "execution_count": 20,
   "metadata": {},
   "outputs": [
    {
     "name": "stdout",
     "output_type": "stream",
     "text": [
      "35.44\n"
     ]
    }
   ],
   "source": [
    "print(engineering_breaks.mean())"
   ]
  },
  {
   "cell_type": "code",
   "execution_count": 21,
   "metadata": {},
   "outputs": [],
   "source": [
    "t_statistic, p_value=stats.ttest_1samp(a=engineering_breaks, popmean=breaks.mean())"
   ]
  },
  {
   "cell_type": "code",
   "execution_count": 22,
   "metadata": {},
   "outputs": [
    {
     "name": "stdout",
     "output_type": "stream",
     "text": [
      "-4.90084434978126\n",
      "1.3902828671063967e-06\n"
     ]
    }
   ],
   "source": [
    "print (t_statistic)\n",
    "print (p_value)"
   ]
  },
  {
   "cell_type": "markdown",
   "metadata": {},
   "source": [
    "Here the *p*-value is MUCH lower than 0.05 (chosen significance level) and so we reject the Null hypothesis. This means the engineering department seems to take different break lengths than the company as a whole.\n",
    "\n",
    "- **false positive or Type I Error** is when we reject the null hypothesis when it is actually true (accept alternative when false)\n",
    "- **false negative or Type II Error** is when we fail to reject the null hypothesis when it is actually false (reject alternative when its true)"
   ]
  },
  {
   "cell_type": "code",
   "execution_count": 26,
   "metadata": {},
   "outputs": [
    {
     "name": "stdout",
     "output_type": "stream",
     "text": [
      "30.1817679275599 1.26374310311106e-06\n"
     ]
    }
   ],
   "source": [
    "#running Chi-square test to assess whether obesity proportions in US\n",
    "#have changed since 2009\n",
    "import math\n",
    "\n",
    "observed = [102, 178, 186, 34]\n",
    "expected = [156, 165.5, 147, 31.5]\n",
    "\n",
    "chi_squared, p_value = stats.chisquare(f_obs=observed, f_exp = expected)\n",
    "\n",
    "print(chi_squared, p_value)"
   ]
  },
  {
   "cell_type": "markdown",
   "metadata": {},
   "source": [
    "Since our $p$ value is lower than 0.05; therefore we may reject the null hypothesis in favor of the fact that the BMI trends today are different from what they were in 2009"
   ]
  },
  {
   "cell_type": "code",
   "execution_count": 27,
   "metadata": {},
   "outputs": [],
   "source": [
    "#recall the A/B testing we did in the last chapter:\n",
    "observed = np.array([[97,74], [84, 91]])\n",
    "#built 2x2 matrix as seen the table\n",
    "\n",
    "chi_squared, p_value, degrees_of_freedom, matrix = stats.chi2_contingency(observed = observed)"
   ]
  },
  {
   "cell_type": "code",
   "execution_count": 28,
   "metadata": {},
   "outputs": [
    {
     "name": "stdout",
     "output_type": "stream",
     "text": [
      "2.30116003665059 0.1292774163199921\n"
     ]
    }
   ],
   "source": [
    "print(chi_squared, p_value)"
   ]
  },
  {
   "cell_type": "markdown",
   "metadata": {},
   "source": [
    "above our $p$-value is larger than .5 so we fail to reject the null hupothesis and we cannot say for sure that seein ga particular website has any effect on whether or not a user signs up. There is no association between these variables"
   ]
  }
 ],
 "metadata": {
  "kernelspec": {
   "display_name": "Python 3",
   "language": "python",
   "name": "python3"
  },
  "language_info": {
   "codemirror_mode": {
    "name": "ipython",
    "version": 3
   },
   "file_extension": ".py",
   "mimetype": "text/x-python",
   "name": "python",
   "nbconvert_exporter": "python",
   "pygments_lexer": "ipython3",
   "version": "3.8.4"
  }
 },
 "nbformat": 4,
 "nbformat_minor": 4
}
