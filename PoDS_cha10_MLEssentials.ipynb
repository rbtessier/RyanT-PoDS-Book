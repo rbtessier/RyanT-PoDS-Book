{
 "cells": [
  {
   "cell_type": "markdown",
   "metadata": {},
   "source": [
    "# Machine Learning Essentials\n",
    "This chapter focuses on machine learning as a practical part of data science. Following topics will be covered:\n",
    "- Defining the different types of machine learning, along with examples of each kind\n",
    "- Regression and Classification\n",
    "- What is machine learning and how is it used in data science?\n",
    "- The differences between machine learning and statistical modeling and how machine learning is a broad category of the latter"
   ]
  },
  {
   "cell_type": "markdown",
   "metadata": {},
   "source": [
    "## What is Machine Learning\n",
    "\n",
    "- machine learning models can learn without the explicit help of a human - that's the main difference between ML models and a classical algorithm\n",
    "- one of many tools in the belt of a data scientist. A true data scientist will be able to recognize when ML is applicable and when it is not\n",
    "- ML is a game of correlations and relationships. Most machine learning algorithms are concerned with finding and/or exploiting relationships between datasets (columns in pandas "
   ]
  },
  {
   "cell_type": "markdown",
   "metadata": {},
   "source": [
    "## Some universal assumptions\n",
    "- The data used is preprocessed and cleaned using methods in earlier chapters. Dirty data with missing values is tolerated by almost no ML models\n",
    "- Each row of a cleaned dataset represents a single observation of the environment we're trying to model.\n",
    "- If we're finding relationships between variables, there is an assumption of some kind of relationship between variables. They can't communicate that there is not relationship\n",
    "- Machine learning is semi-automatic, intelligent decisions by humans are still needed\n",
    "- Most ML models are sensitive to noisy data."
   ]
  },
  {
   "cell_type": "markdown",
   "metadata": {},
   "source": [
    "## Types of ML\n",
    "You can segment ML models by different characteristics including\n",
    "- Types of data/organic structures utilized (tree/graph/neural network)\n",
    "- Field of math they most relate to (statistical/probabilistic)\n",
    "- Level of computation required to train (deep learning\n",
    "\n",
    "For this book, there are 3 primary categories\n",
    "1. Supervised Learning (predictive analytics models) \n",
    "    - Predicts the future (target variable/label) based on the past (features/predictors/input variables)\n",
    "    - Requires labelled data\n",
    "    - can eparate data into two parts\n",
    "      - Predictors (features/input variables)\n",
    "      - Response (outcome/label/target)\n",
    "    - requires labelled data, which can often be hard to obtain.\n",
    "    - can also be used to simply establish relationship between variables. The fact a model can make accurate predictions given just a certain set of predictors, implies there's a relationship between the variables.\n",
    "    - two types of supervised learning\n",
    "      - **regression** - continuous response\n",
    "      - **classification** - discrete response\n",
    "    - benefits\n",
    "      - it can make future predictions\n",
    "      - it can quantify relationships between predictors and response variables\n",
    "      - it can show us how variables affect each other and by how much\n",
    "    - cons:\n",
    "      - it requires labelled data (difficult to get)\n",
    "    - Sometimes can be difficult to choose between regression or classification\n",
    "2. Unsupervised Learning\n",
    "   - takes a set of predictors and utilizes relationships between them in order to accomplish tasks such as:\n",
    "     - **dimension reduction:** reducing dimension of the data by condensing variables together. Example is file compression.\n",
    "     - **clustering:** finds and groups together observations that behave similarly\n",
    "    - benefits\n",
    "      - Can find groups of data points that behave similarly that humans would not have noted\n",
    "      - can be a preprocessing step for supervised learning. Cluster a bunch of data then use these clusters as the response\n",
    "      - can use unlabelled data, which is easier to find\n",
    "    - cons:\n",
    "      - zero predictive power\n",
    "      - hard to determine if on right track\n",
    "      - relies much more on human interpretation.\n",
    "    - benefit: does not require labelled data\n",
    "    - drawback: lose all predictive power, because the response variable holds the information to make predictions, and without it, model is hopeless\n",
    "    - big drawback: difficult to see how well we are doing, no answers to compare our models to.\n",
    "    - partial solution: requires human interpretation\n",
    "3. Reinforcement Learning\n",
    "    - Algorithm chooses an action in an environment and is rewarded (positively or negatively) for choosing action. Algorithm them adjusts iself and modifies its strategy in order to accomplish some goal, which is usually to get a reward\n",
    "    - very popular in AI-assisted gameplay, robotics, self-automating machinery as *agents*(AI) are allowed to explore a virtual/real world, collect rewards, and learn best navigation techniques\n",
    "    - Similar to supervised learning, but reward does not have to be tied in any way to a *correct* or *incorrect* decision.\n",
    "    - reinforcement learning is least explored of these types of ML, and not explored in great detail in this text.\n",
    "    - benefits:\n",
    "      - Very complicated reward systems create very complicated AI systems\n",
    "      - it can learn in almost any environment, including Earth\n",
    "    - cons:\n",
    "      - The agent is erratic at first and makes many terrible choices before realizing that these choices have negative rewards"
   ]
  },
  {
   "cell_type": "markdown",
   "metadata": {},
   "source": [
    "A point of note, he uses ML Model where I think ML Algorithm seems more appropriate, because the model expresses the relationship between predictor and response.\n",
    "\n",
    "Rest of the chapter focuses on Linear Regression"
   ]
  },
  {
   "cell_type": "code",
   "execution_count": 1,
   "metadata": {},
   "outputs": [],
   "source": [
    "import pandas as pd\n",
    "import matplotlib.pyplot as plt\n",
    "%matplotlib inline\n",
    "bikes = pd.read_csv('bike-sharing-demand/train.csv')"
   ]
  },
  {
   "cell_type": "code",
   "execution_count": 2,
   "metadata": {},
   "outputs": [
    {
     "data": {
      "text/html": [
       "<div>\n",
       "<style scoped>\n",
       "    .dataframe tbody tr th:only-of-type {\n",
       "        vertical-align: middle;\n",
       "    }\n",
       "\n",
       "    .dataframe tbody tr th {\n",
       "        vertical-align: top;\n",
       "    }\n",
       "\n",
       "    .dataframe thead th {\n",
       "        text-align: right;\n",
       "    }\n",
       "</style>\n",
       "<table border=\"1\" class=\"dataframe\">\n",
       "  <thead>\n",
       "    <tr style=\"text-align: right;\">\n",
       "      <th></th>\n",
       "      <th>datetime</th>\n",
       "      <th>season</th>\n",
       "      <th>holiday</th>\n",
       "      <th>workingday</th>\n",
       "      <th>weather</th>\n",
       "      <th>temp</th>\n",
       "      <th>atemp</th>\n",
       "      <th>humidity</th>\n",
       "      <th>windspeed</th>\n",
       "      <th>casual</th>\n",
       "      <th>registered</th>\n",
       "      <th>count</th>\n",
       "    </tr>\n",
       "  </thead>\n",
       "  <tbody>\n",
       "    <tr>\n",
       "      <th>0</th>\n",
       "      <td>2011-01-01 00:00:00</td>\n",
       "      <td>1</td>\n",
       "      <td>0</td>\n",
       "      <td>0</td>\n",
       "      <td>1</td>\n",
       "      <td>9.84</td>\n",
       "      <td>14.395</td>\n",
       "      <td>81</td>\n",
       "      <td>0.0</td>\n",
       "      <td>3</td>\n",
       "      <td>13</td>\n",
       "      <td>16</td>\n",
       "    </tr>\n",
       "    <tr>\n",
       "      <th>1</th>\n",
       "      <td>2011-01-01 01:00:00</td>\n",
       "      <td>1</td>\n",
       "      <td>0</td>\n",
       "      <td>0</td>\n",
       "      <td>1</td>\n",
       "      <td>9.02</td>\n",
       "      <td>13.635</td>\n",
       "      <td>80</td>\n",
       "      <td>0.0</td>\n",
       "      <td>8</td>\n",
       "      <td>32</td>\n",
       "      <td>40</td>\n",
       "    </tr>\n",
       "    <tr>\n",
       "      <th>2</th>\n",
       "      <td>2011-01-01 02:00:00</td>\n",
       "      <td>1</td>\n",
       "      <td>0</td>\n",
       "      <td>0</td>\n",
       "      <td>1</td>\n",
       "      <td>9.02</td>\n",
       "      <td>13.635</td>\n",
       "      <td>80</td>\n",
       "      <td>0.0</td>\n",
       "      <td>5</td>\n",
       "      <td>27</td>\n",
       "      <td>32</td>\n",
       "    </tr>\n",
       "    <tr>\n",
       "      <th>3</th>\n",
       "      <td>2011-01-01 03:00:00</td>\n",
       "      <td>1</td>\n",
       "      <td>0</td>\n",
       "      <td>0</td>\n",
       "      <td>1</td>\n",
       "      <td>9.84</td>\n",
       "      <td>14.395</td>\n",
       "      <td>75</td>\n",
       "      <td>0.0</td>\n",
       "      <td>3</td>\n",
       "      <td>10</td>\n",
       "      <td>13</td>\n",
       "    </tr>\n",
       "    <tr>\n",
       "      <th>4</th>\n",
       "      <td>2011-01-01 04:00:00</td>\n",
       "      <td>1</td>\n",
       "      <td>0</td>\n",
       "      <td>0</td>\n",
       "      <td>1</td>\n",
       "      <td>9.84</td>\n",
       "      <td>14.395</td>\n",
       "      <td>75</td>\n",
       "      <td>0.0</td>\n",
       "      <td>0</td>\n",
       "      <td>1</td>\n",
       "      <td>1</td>\n",
       "    </tr>\n",
       "  </tbody>\n",
       "</table>\n",
       "</div>"
      ],
      "text/plain": [
       "              datetime  season  holiday  workingday  weather  temp   atemp  \\\n",
       "0  2011-01-01 00:00:00       1        0           0        1  9.84  14.395   \n",
       "1  2011-01-01 01:00:00       1        0           0        1  9.02  13.635   \n",
       "2  2011-01-01 02:00:00       1        0           0        1  9.02  13.635   \n",
       "3  2011-01-01 03:00:00       1        0           0        1  9.84  14.395   \n",
       "4  2011-01-01 04:00:00       1        0           0        1  9.84  14.395   \n",
       "\n",
       "   humidity  windspeed  casual  registered  count  \n",
       "0        81        0.0       3          13     16  \n",
       "1        80        0.0       8          32     40  \n",
       "2        80        0.0       5          27     32  \n",
       "3        75        0.0       3          10     13  \n",
       "4        75        0.0       0           1      1  "
      ]
     },
     "execution_count": 2,
     "metadata": {},
     "output_type": "execute_result"
    }
   ],
   "source": [
    "bikes.head()"
   ]
  },
  {
   "cell_type": "code",
   "execution_count": 3,
   "metadata": {},
   "outputs": [
    {
     "data": {
      "text/plain": [
       "(10886, 12)"
      ]
     },
     "execution_count": 3,
     "metadata": {},
     "output_type": "execute_result"
    }
   ],
   "source": [
    "bikes.shape"
   ]
  },
  {
   "cell_type": "markdown",
   "metadata": {},
   "source": [
    "Each row represents a single hour of bike usage. In this case, we're interested in predicting ```count```, which represents the total number of bikes rented in that hour"
   ]
  },
  {
   "cell_type": "code",
   "execution_count": 4,
   "metadata": {},
   "outputs": [
    {
     "data": {
      "text/plain": [
       "<AxesSubplot:xlabel='temp', ylabel='count'>"
      ]
     },
     "execution_count": 4,
     "metadata": {},
     "output_type": "execute_result"
    },
    {
     "data": {
      "image/png": "[encoded data removed]",
      "text/plain": [
       "<Figure size 432x288 with 1 Axes>"
      ]
     },
     "metadata": {
      "needs_background": "light"
     },
     "output_type": "display_data"
    }
   ],
   "source": [
    "bikes.plot(kind='scatter', x='temp', y='count', alpha=0.2)\n",
    "#alpha seems to be the size of the dots"
   ]
  },
  {
   "cell_type": "code",
   "execution_count": 5,
   "metadata": {},
   "outputs": [
    {
     "data": {
      "text/plain": [
       "<seaborn.axisgrid.FacetGrid at 0x2593d3c00a0>"
      ]
     },
     "execution_count": 5,
     "metadata": {},
     "output_type": "execute_result"
    },
    {
     "data": {
      "image/png": "[encoded data removed]",
      "text/plain": [
       "<Figure size 540x360 with 1 Axes>"
      ]
     },
     "metadata": {
      "needs_background": "light"
     },
     "output_type": "display_data"
    }
   ],
   "source": [
    "import seaborn as sns #using seaborn to get a line of best fit\n",
    "sns.lmplot(x = 'temp', y = 'count', data=bikes, aspect = 1.5, scatter_kws={'alpha':0.2})"
   ]
  },
  {
   "cell_type": "markdown",
   "metadata": {},
   "source": [
    "It appears that as ```temp``` goes up, our ```count``` also goes up. "
   ]
  },
  {
   "cell_type": "code",
   "execution_count": 6,
   "metadata": {},
   "outputs": [
    {
     "data": {
      "text/html": [
       "<div>\n",
       "<style scoped>\n",
       "    .dataframe tbody tr th:only-of-type {\n",
       "        vertical-align: middle;\n",
       "    }\n",
       "\n",
       "    .dataframe tbody tr th {\n",
       "        vertical-align: top;\n",
       "    }\n",
       "\n",
       "    .dataframe thead th {\n",
       "        text-align: right;\n",
       "    }\n",
       "</style>\n",
       "<table border=\"1\" class=\"dataframe\">\n",
       "  <thead>\n",
       "    <tr style=\"text-align: right;\">\n",
       "      <th></th>\n",
       "      <th>count</th>\n",
       "      <th>temp</th>\n",
       "    </tr>\n",
       "  </thead>\n",
       "  <tbody>\n",
       "    <tr>\n",
       "      <th>count</th>\n",
       "      <td>1.000000</td>\n",
       "      <td>0.394454</td>\n",
       "    </tr>\n",
       "    <tr>\n",
       "      <th>temp</th>\n",
       "      <td>0.394454</td>\n",
       "      <td>1.000000</td>\n",
       "    </tr>\n",
       "  </tbody>\n",
       "</table>\n",
       "</div>"
      ],
      "text/plain": [
       "          count      temp\n",
       "count  1.000000  0.394454\n",
       "temp   0.394454  1.000000"
      ]
     },
     "execution_count": 6,
     "metadata": {},
     "output_type": "execute_result"
    }
   ],
   "source": [
    "bikes[['count', 'temp']].corr()\n",
    "#correlation coefficient implies a weak positive correlation between the two variables"
   ]
  },
  {
   "cell_type": "markdown",
   "metadata": {},
   "source": [
    "The best fit line has the smallest **sum of squared residuals**, we are going to try to find this line in python"
   ]
  },
  {
   "cell_type": "code",
   "execution_count": 7,
   "metadata": {},
   "outputs": [],
   "source": [
    "#create X and y where X has only 1 feature 'temp'\n",
    "feature_cols = ['temp'] #list of predictors\n",
    "X=bikes[feature_cols] #subsetting our data to only the predictors\n",
    "y=bikes['count'] #response variable"
   ]
  },
  {
   "cell_type": "code",
   "execution_count": 8,
   "metadata": {},
   "outputs": [],
   "source": [
    "# import scikit-learn, our machine learning module\n",
    "from sklearn.linear_model import LinearRegression"
   ]
  },
  {
   "cell_type": "code",
   "execution_count": 9,
   "metadata": {},
   "outputs": [
    {
     "name": "stdout",
     "output_type": "stream",
     "text": [
      "6.046212959616469\n",
      "[9.17054048]\n"
     ]
    }
   ],
   "source": [
    "linreg=LinearRegression() #instantiate new model\n",
    "linreg.fit(X, y) #fit model to our data\n",
    "\n",
    "#print the coefficients\n",
    "print(linreg.intercept_)\n",
    "print(linreg.coef_)"
   ]
  },
  {
   "cell_type": "markdown",
   "metadata": {},
   "source": [
    "$B_0$(6.04) is the value of ```y``` when ```X=0```\n",
    "- it is the estimateion of bikes that will be rented when temperature is 0 degrees Celsius\n",
    "- So, at $0$ degrees, six bikes are predicted to be in use (its cold!)\n",
    "\n",
    "$B_1$(9.17) is our temperature coefficient\n",
    "- change in $y$ divided by the change in $x_1$.\n",
    "- represents how $x$ and $y$ move together.\n",
    "- change in $1$ degree Celsius is associate with an increase in about nine bikes rented\n",
    "- sign of coefficient is important. If negative, would imply a rise in temp is associated with drop in rentals."
   ]
  },
  {
   "cell_type": "code",
   "execution_count": 10,
   "metadata": {},
   "outputs": [
    {
     "data": {
      "text/plain": [
       "array([189.45702259])"
      ]
     },
     "execution_count": 10,
     "metadata": {},
     "output_type": "execute_result"
    }
   ],
   "source": [
    "#ooooh fun, I'm learning how to actually predict with a model\n",
    "linreg.predict([[20]])\n",
    "#in book he just input 20 instead of the brackets"
   ]
  },
  {
   "cell_type": "markdown",
   "metadata": {},
   "source": [
    "So 190 bikes will likely be rented if temp is 20 degrees"
   ]
  },
  {
   "cell_type": "markdown",
   "metadata": {},
   "source": [
    "## Adding more predictors\n",
    "Adding more predictors to the model is as simple as telling the linear regression model in ```scikit-learn``` about them. \n",
    "\n",
    "Before doing that we should go through data dictionary to make sense of predictors."
   ]
  },
  {
   "cell_type": "code",
   "execution_count": 11,
   "metadata": {},
   "outputs": [
    {
     "name": "stdout",
     "output_type": "stream",
     "text": [
      "{('weather', 6.670302035923754), ('season', 22.53875753246686), ('temp', 7.864824992477452), ('humidity', -3.118873382396494)}\n"
     ]
    }
   ],
   "source": [
    "#create a list of features\n",
    "feature_cols = ['temp', 'season', 'weather', 'humidity']\n",
    "#create X and Y\n",
    "X = bikes[feature_cols]\n",
    "y = bikes['count']\n",
    "\n",
    "#instantiate and fit\n",
    "linreg = LinearRegression()\n",
    "linreg.fit(X,y)\n",
    "\n",
    "#pair the feature names with the coefficients\n",
    "result = zip(feature_cols, linreg.coef_)\n",
    "resultSet=set(result)\n",
    "print(resultSet)\n",
    "#also LOL at the appropriately named zip function"
   ]
  },
  {
   "cell_type": "markdown",
   "metadata": {},
   "source": [
    "These coefficients correspond to how much change in $y$ a 1 unit increase (holding other dimensions constant) in $x_i$ would lead to. Surprisingly as ```weather``` goes up (weather gets closer to overcast), the bike demand goes up, as is the case when season variables increase (we approach winter.). Highly unexpected!"
   ]
  },
  {
   "cell_type": "code",
   "execution_count": 12,
   "metadata": {},
   "outputs": [
    {
     "data": {
      "text/plain": [
       "<seaborn.axisgrid.PairGrid at 0x25945766640>"
      ]
     },
     "execution_count": 12,
     "metadata": {},
     "output_type": "execute_result"
    },
    {
     "data": {
      "image/png": "[encoded data removed]",
      "text/plain": [
       "<Figure size 720x180 with 4 Axes>"
      ]
     },
     "metadata": {
      "needs_background": "light"
     },
     "output_type": "display_data"
    }
   ],
   "source": [
    "feature_cols = ['temp', 'season', 'weather', 'humidity']\n",
    "#multiple scatter plots\n",
    "sns.pairplot(bikes, x_vars = feature_cols, y_vars='count', kind='reg')"
   ]
  },
  {
   "cell_type": "markdown",
   "metadata": {},
   "source": [
    "Looking at this, we see the weather line is trending downward, which is opposite of what last model was suggesting (since temp tends to not increase as more harsh weather comes). Now we need to see which predictors are helping make the prediction and which are noise. So we need more advanced metrics."
   ]
  },
  {
   "cell_type": "markdown",
   "metadata": {},
   "source": [
    "## Regression Metrics\n",
    "3 main ones when using regression ML models:\n",
    "- The mean absolute error\n",
    "- The mean squared error\n",
    "- The root mean squared error"
   ]
  },
  {
   "cell_type": "code",
   "execution_count": 13,
   "metadata": {},
   "outputs": [
    {
     "name": "stdout",
     "output_type": "stream",
     "text": [
      "MAE:  2.0\n",
      "MSE:  9.5\n",
      "RMSE:  3.082207001484488\n"
     ]
    }
   ],
   "source": [
    "# example true adn predicted response values\n",
    "true = [9, 6, 7, 6]\n",
    "pred = [8, 7, 7, 12]\n",
    "#note that each value in the last represents a single prediction for a model\n",
    "#so we are comparing four predictions to four actual answers\n",
    "\n",
    "#wants students to calculate by hand, but I'm a mathematician, so I don't know I will benefit\n",
    "from sklearn import metrics\n",
    "import numpy as np\n",
    "print ('MAE: ', metrics.mean_absolute_error(true, pred))\n",
    "print('MSE: ', metrics.mean_squared_error(true, pred))\n",
    "print('RMSE: ', np.sqrt(metrics.mean_squared_error(true, pred)))"
   ]
  },
  {
   "cell_type": "markdown",
   "metadata": {},
   "source": [
    "- MAE is easiest to understand since it denotes, on average, how wrong the model is\n",
    "- MSE tends to be more effective than MAE, because MSE punishes larger errors, which tends to be much more useful in the real world\n",
    "- RMSE is even more popular than MSE, because its much more interpretable"
   ]
  },
  {
   "cell_type": "markdown",
   "metadata": {},
   "source": [
    "Next we use RMSE to ascertain which columns are helping and which are hurting."
   ]
  },
  {
   "cell_type": "code",
   "execution_count": 14,
   "metadata": {},
   "outputs": [
    {
     "data": {
      "text/plain": [
       "166.44886243326746"
      ]
     },
     "execution_count": 14,
     "metadata": {},
     "output_type": "execute_result"
    }
   ],
   "source": [
    "#using just temperature\n",
    "from sklearn import metrics\n",
    "\n",
    "feature_cols = ['temp']\n",
    "#create X and y\n",
    "X = bikes[feature_cols]\n",
    "linreg = LinearRegression()\n",
    "linreg.fit(X, y)\n",
    "y_pred = linreg.predict(X)\n",
    "np.sqrt(metrics.mean_squared_error(y, y_pred))\n",
    "#RMSE, can be interpreted loosely as an average error"
   ]
  },
  {
   "cell_type": "code",
   "execution_count": 15,
   "metadata": {},
   "outputs": [
    {
     "data": {
      "text/plain": [
       "157.7992451452858"
      ]
     },
     "execution_count": 15,
     "metadata": {},
     "output_type": "execute_result"
    }
   ],
   "source": [
    "#using temperature and humidity\n",
    "from sklearn import metrics\n",
    "\n",
    "feature_cols = ['temp', 'humidity']\n",
    "#create X and y\n",
    "X = bikes[feature_cols]\n",
    "linreg = LinearRegression()\n",
    "linreg.fit(X, y)\n",
    "y_pred = linreg.predict(X)\n",
    "np.sqrt(metrics.mean_squared_error(y, y_pred))\n",
    "#RMSE, can be interpreted loosely as an average error"
   ]
  },
  {
   "cell_type": "code",
   "execution_count": 16,
   "metadata": {},
   "outputs": [
    {
     "data": {
      "text/plain": [
       "155.75989143430357"
      ]
     },
     "execution_count": 16,
     "metadata": {},
     "output_type": "execute_result"
    }
   ],
   "source": [
    "#using just temperature\n",
    "from sklearn import metrics\n",
    "\n",
    "feature_cols = ['temp', 'humidity', 'season', 'holiday', 'workingday', \n",
    "               'windspeed', 'atemp']\n",
    "#create X and y\n",
    "X = bikes[feature_cols]\n",
    "linreg = LinearRegression()\n",
    "linreg.fit(X, y)\n",
    "y_pred = linreg.predict(X)\n",
    "np.sqrt(metrics.mean_squared_error(y, y_pred))\n",
    "#RMSE, can be interpreted loosely as an average error"
   ]
  },
  {
   "cell_type": "markdown",
   "metadata": {},
   "source": [
    "We are training the line here to fit to ```X``` and ```y``` and then asking it to predict ```X``` again! Huge mistake as it can lead to **overfitting**, which means the model is merely *memorizing* the data and regurgitating it back to us, gross!"
   ]
  },
  {
   "cell_type": "markdown",
   "metadata": {},
   "source": [
    "To combat the overfitting problem, use a train/test approach to fit machine learning models. Essentially take the following steps\n",
    "1. Split up the dataset into two parts: a training and test set\n",
    "2. Fit our model on the training set and then test it on the test set \n",
    "2. (.5) parameter tuning \n",
    "3. Once model is good enough (based on metrics), we turn our model's attention toward the entire dataset\n",
    "4. Our model awaits new data previously unseen by anyone.\n",
    "\n",
    "The goal here is to minimize the out-of-sample errors of our model, which are the errors our model has on data that it has never seen before."
   ]
  },
  {
   "cell_type": "code",
   "execution_count": 17,
   "metadata": {},
   "outputs": [
    {
     "data": {
      "text/plain": [
       "168.196847178697"
      ]
     },
     "execution_count": 17,
     "metadata": {},
     "output_type": "execute_result"
    }
   ],
   "source": [
    "from sklearn.model_selection import train_test_split\n",
    "#function that splits data into training and testing sets\n",
    "#note that the book suggests sklearn.cross_validation, \n",
    "#but it appears this function is not in cross_validation anymore\n",
    "\n",
    "feature_cols = ['temp']\n",
    "X=bikes[feature_cols]\n",
    "y=bikes['count']\n",
    "#setting our overall data X, and y\n",
    "#note in this example we're attempting to find an association\n",
    "#between the temperature of the day and the number of bike rentals\n",
    "\n",
    "X_train, X_test, y_train, y_test = train_test_split(X, y)\n",
    "#X_train and y_train will be used to train the model\n",
    "#X_test and y_test will be used to test the model\n",
    "#remember that all four of these variables are just subsets of the overall X and Y\n",
    "\n",
    "linreg = LinearRegression()\n",
    "#instantiate the model\n",
    "\n",
    "linreg.fit(X_train, y_train)\n",
    "# fit the model to our training set\n",
    "\n",
    "y_pred = linreg.predict(X_test)\n",
    "#predict our testing set\n",
    "\n",
    "np.sqrt(metrics.mean_squared_error(y_test, y_pred))\n",
    "# calculate our metric"
   ]
  },
  {
   "cell_type": "code",
   "execution_count": 18,
   "metadata": {},
   "outputs": [
    {
     "data": {
      "text/plain": [
       "170.9931404817601"
      ]
     },
     "execution_count": 18,
     "metadata": {},
     "output_type": "execute_result"
    }
   ],
   "source": [
    "feature_cols = ['temp', 'workingday']\n",
    "X=bikes[feature_cols]\n",
    "y=bikes['count']\n",
    "#setting our overall data X, and y\n",
    "#note in this example we're attempting to find an association\n",
    "#between the temperature of the day and the number of bike rentals\n",
    "\n",
    "X_train, X_test, y_train, y_test = train_test_split(X, y)\n",
    "#X_train and y_train will be used to train the model\n",
    "#X_test and y_test will be used to test the model\n",
    "#remember that all four of these variables are just subsets of the overall X and Y\n",
    "\n",
    "linreg = LinearRegression()\n",
    "#instantiate the model\n",
    "\n",
    "linreg.fit(X_train, y_train)\n",
    "# fit the model to our training set\n",
    "\n",
    "y_pred = linreg.predict(X_test)\n",
    "#predict our testing set\n",
    "np.sqrt(metrics.mean_squared_error(y_test, y_pred))\n",
    "# calculate our metric"
   ]
  },
  {
   "cell_type": "markdown",
   "metadata": {},
   "source": [
    "Looks like adding this predictor actually made things a little bit worse, so workingday might not be very predictive or our response, the bike rental count. \n",
    "\n",
    "As a side note, this seems to be how you do data science, add features and see how it affects the metric. Even better, automate this process somehow and assess how effective the model is at all chosen permutations. Pick best one. I think this is what the Automated ML is doing somewhat"
   ]
  },
  {
   "cell_type": "markdown",
   "metadata": {},
   "source": [
    "### Null Model\n",
    "We have root mean squared error of 167 bikes, but is this any good? One way to discover this is to evaluate the **null model**.\n",
    "\n",
    "THe null model in supervised machine learning represents effectively guessing the expected outcome over and over, and seeing how you did."
   ]
  },
  {
   "cell_type": "code",
   "execution_count": 19,
   "metadata": {},
   "outputs": [
    {
     "data": {
      "text/plain": [
       "191.57413191254824"
      ]
     },
     "execution_count": 19,
     "metadata": {},
     "output_type": "execute_result"
    }
   ],
   "source": [
    "average_bike_rental = bikes['count'].mean()\n",
    "average_bike_rental"
   ]
  },
  {
   "cell_type": "markdown",
   "metadata": {},
   "source": [
    "So in the bike example, the average number of bikes that go out every hour is about 192. "
   ]
  },
  {
   "cell_type": "code",
   "execution_count": 26,
   "metadata": {},
   "outputs": [
    {
     "name": "stdout",
     "output_type": "stream",
     "text": [
      "10886\n"
     ]
    },
    {
     "data": {
      "text/plain": [
       "191.57413191254824"
      ]
     },
     "execution_count": 26,
     "metadata": {},
     "output_type": "execute_result"
    }
   ],
   "source": [
    "num_rows = bikes.shape[0]\n",
    "print(num_rows)\n",
    "\n",
    "null_model_predictions = [average_bike_rental]*num_rows\n",
    "null_model_predictions[1]"
   ]
  },
  {
   "cell_type": "code",
   "execution_count": 27,
   "metadata": {},
   "outputs": [
    {
     "data": {
      "text/plain": [
       "181.1361335742659"
      ]
     },
     "execution_count": 27,
     "metadata": {},
     "output_type": "execute_result"
    }
   ],
   "source": [
    "np.sqrt(metrics.mean_squared_error(y, null_model_predictions))"
   ]
  },
  {
   "cell_type": "markdown",
   "metadata": {},
   "source": [
    "### Logistic Regression\n",
    "Logistic regression is a generalization of the linear regression model that was adapted to fit classification problems. In logistic regression, we use a set of quantitiative features to predict the *probabilities* of class membership. These probabilites can then be mapped to class labels, hence predicting a class for each observation.\n",
    "\n",
    "Logistic regression, uses the following form:\n",
    "$$\\pi = Pr(y=1|x)=\\frac{e^{\\beta_0 + \\beta_1 x}}{1 + e^{\\beta_0 + \\beta_1 x}}$$\n",
    "\n",
    "Here, $y$ reperesents the conditional probability that our response variable belongs to class $1$, given our data, $x$.\n",
    "\n",
    "$$\\text{Odds}=\\frac{P}{1-P}$$"
   ]
  },
  {
   "cell_type": "code",
   "execution_count": 28,
   "metadata": {},
   "outputs": [
    {
     "name": "stdout",
     "output_type": "stream",
     "text": [
      "   probability      odds\n",
      "0         0.10  0.111111\n",
      "1         0.20  0.250000\n",
      "2         0.25  0.333333\n",
      "3         0.50  1.000000\n",
      "4         0.60  1.500000\n",
      "5         0.80  4.000000\n",
      "6         0.90  9.000000\n"
     ]
    }
   ],
   "source": [
    "#use python to make a table of probabilities and associated odds.\n",
    "table = pd.DataFrame({'probability':[0.1, 0.2, 0.25, 0.5, 0.6, 0.8, 0.9]})\n",
    "table['odds']=table.probability/(1-table.probability)\n",
    "print(table)"
   ]
  },
  {
   "cell_type": "markdown",
   "metadata": {},
   "source": [
    "Problem here that the top of odds approaches infinity as probability approaches 1. Also, odds will only approach 0, and never reach it, that's a problem for classification too"
   ]
  },
  {
   "cell_type": "code",
   "execution_count": 34,
   "metadata": {},
   "outputs": [
    {
     "data": {
      "text/plain": [
       "2.302585092994046"
      ]
     },
     "execution_count": 34,
     "metadata": {},
     "output_type": "execute_result"
    }
   ],
   "source": [
    "np.log(10) #e^2.303 = 10"
   ]
  },
  {
   "cell_type": "code",
   "execution_count": 35,
   "metadata": {},
   "outputs": [
    {
     "data": {
      "text/plain": [
       "9.999984511610785"
      ]
     },
     "execution_count": 35,
     "metadata": {},
     "output_type": "execute_result"
    }
   ],
   "source": [
    "2.71828**2.3025850929940459 #e^ log(10) == 10"
   ]
  },
  {
   "cell_type": "code",
   "execution_count": 36,
   "metadata": {},
   "outputs": [
    {
     "name": "stdout",
     "output_type": "stream",
     "text": [
      "   probability      odds   logodds\n",
      "0         0.10  0.111111 -2.197225\n",
      "1         0.20  0.250000 -1.386294\n",
      "2         0.25  0.333333 -1.098612\n",
      "3         0.50  1.000000  0.000000\n",
      "4         0.60  1.500000  0.405465\n",
      "5         0.80  4.000000  1.386294\n",
      "6         0.90  9.000000  2.197225\n"
     ]
    }
   ],
   "source": [
    "table['logodds'] = np.log(table.odds)\n",
    "print(table)"
   ]
  },
  {
   "cell_type": "code",
   "execution_count": 37,
   "metadata": {},
   "outputs": [
    {
     "name": "stdout",
     "output_type": "stream",
     "text": [
      "0.3333333333333333\n",
      "-1.0986122886681098\n"
     ]
    }
   ],
   "source": [
    "#just double checking that our function works\n",
    "prob = .25\n",
    "\n",
    "odds = prob/ (1-prob)\n",
    "print(odds)\n",
    "\n",
    "logodds = np.log(odds)\n",
    "print(logodds)"
   ]
  },
  {
   "cell_type": "markdown",
   "metadata": {},
   "source": [
    "Logodds goes below zero and goes bove zero, so is a good candidate (but this is where I'm kind of not loving this book since Linear regression has this same attribute, so the reasoning is kind of faulty)"
   ]
  },
  {
   "cell_type": "markdown",
   "metadata": {},
   "source": [
    "### Math of Logistic Regresion\n",
    "Simply, logistic regression is a linear regression between feature, $x$, and the log-odds of our data belonging to a certain class"
   ]
  },
  {
   "cell_type": "markdown",
   "metadata": {},
   "source": [
    "If $p$ represents the probability of a data point belonging to a particular class, then the logistic regression can be written as follows\n",
    "$$log_e \\frac{p}{1-p}=\\beta_0 + \\beta_1 x$$\n",
    "if we rearrange and solve for $p$ we get the logistic function, which takes an S shape, and $y$ is bounded by $[0, 1]$:\n",
    "$$p = \\frac{e^{\\beta_0 + \\beta_1 x}}{1 + e^{\\beta_0 + \\beta_1 x}}$$"
   ]
  },
  {
   "cell_type": "code",
   "execution_count": 41,
   "metadata": {},
   "outputs": [
    {
     "data": {
      "text/plain": [
       "[<matplotlib.lines.Line2D at 0x2594787d6a0>]"
      ]
     },
     "execution_count": 41,
     "metadata": {},
     "output_type": "execute_result"
    },
    {
     "data": {
      "image/png": "[encoded data removed]",
      "text/plain": [
       "<Figure size 432x288 with 1 Axes>"
      ]
     },
     "metadata": {
      "needs_background": "light"
     },
     "output_type": "display_data"
    }
   ],
   "source": [
    "from matplotlib import pyplot as plt\n",
    "%matplotlib inline\n",
    "\n",
    "#Defining the logistic function\n",
    "def logistic_function(x, beta_0=1, beta_1=1): #when you set variables equal to something like this in python, \n",
    "    return np.exp(beta_0+beta_1*x)/(1+ np.exp(beta_0+beta_1*x))\n",
    "\n",
    "#set the y and x values our graph will range over\n",
    "x_values = np.linspace(-15,15)\n",
    "y_values = [logistic_function(x) for x in x_values]\n",
    "\n",
    "\n",
    "\n",
    "#plot our graph of the logistic function with beta_0 = 1 and beta_2 = 1\n",
    "plt.plot(x_values, y_values)"
   ]
  },
  {
   "cell_type": "code",
   "execution_count": 43,
   "metadata": {},
   "outputs": [
    {
     "name": "stdout",
     "output_type": "stream",
     "text": [
      "0.00012339457598623172\n",
      "0.9999832985781519\n"
     ]
    }
   ],
   "source": [
    "print(logistic_function(-10))\n",
    "print(logistic_function(10))"
   ]
  },
  {
   "cell_type": "markdown",
   "metadata": {},
   "source": [
    "- Logistic regression gives an output of the probabilities of a specific class being true\n",
    "- These probabilities can be converted into class probabilities\n",
    "- It takes an S shape\n",
    "- Output is bounded by $0$ and $1$ as probabilities should be"
   ]
  },
  {
   "cell_type": "code",
   "execution_count": null,
   "metadata": {},
   "outputs": [],
   "source": []
  },
  {
   "cell_type": "markdown",
   "metadata": {},
   "source": [
    "Examples have mostly been binary classification, but logistic regression can handle predicting multiple options in our categorial response using a one-versus-all approach, meaning that it will fit a probability curve for each categorical response!"
   ]
  },
  {
   "cell_type": "code",
   "execution_count": 44,
   "metadata": {},
   "outputs": [],
   "source": [
    "#make a categorical response where entries in the above_average column\n",
    "# are True if the hourly bike rental count is above average, false otherwise\n",
    "bikes['above_average'] = bikes['count'] >= average_bike_rental"
   ]
  },
  {
   "cell_type": "code",
   "execution_count": 45,
   "metadata": {},
   "outputs": [
    {
     "data": {
      "text/plain": [
       "0    False\n",
       "1    False\n",
       "2    False\n",
       "3    False\n",
       "4    False\n",
       "Name: above_average, dtype: bool"
      ]
     },
     "execution_count": 45,
     "metadata": {},
     "output_type": "execute_result"
    }
   ],
   "source": [
    "bikes['above_average'].head()"
   ]
  },
  {
   "cell_type": "markdown",
   "metadata": {},
   "source": [
    "We should look at null model. In regression, null model always predicts average response, but in classification, null model predicts the most common outcome. In the following, we see that 60% of the time, bike rental count is not above average."
   ]
  },
  {
   "cell_type": "code",
   "execution_count": 46,
   "metadata": {},
   "outputs": [
    {
     "data": {
      "text/plain": [
       "False    0.599853\n",
       "True     0.400147\n",
       "Name: above_average, dtype: float64"
      ]
     },
     "execution_count": 46,
     "metadata": {},
     "output_type": "execute_result"
    }
   ],
   "source": [
    "bikes['above_average'].value_counts(normalize=True)"
   ]
  },
  {
   "cell_type": "code",
   "execution_count": 47,
   "metadata": {},
   "outputs": [
    {
     "data": {
      "text/plain": [
       "0.6671565025716385"
      ]
     },
     "execution_count": 47,
     "metadata": {},
     "output_type": "execute_result"
    }
   ],
   "source": [
    "from sklearn.linear_model import LogisticRegression\n",
    "\n",
    "feature_cols = ['temp']\n",
    "#using only temperature\n",
    "\n",
    "X=bikes[feature_cols]\n",
    "y=bikes['above_average']\n",
    "#make our overall X and y variables, this time our y is\n",
    "# our binary response variable, above_average\n",
    "\n",
    "X_train, X_test, y_train, y_test = train_test_split(X, y)\n",
    "# make our train test split\n",
    "\n",
    "logreg = LogisticRegression()\n",
    "#instantiate model\n",
    "\n",
    "logreg.fit (X_train, y_train)\n",
    "# fit our model to our training set\n",
    "\n",
    "logreg.score(X_test, y_test)\n",
    "# score it on our test set to get a better sense of our sample performance"
   ]
  },
  {
   "cell_type": "markdown",
   "metadata": {},
   "source": [
    "Using only temperature, we can beat the null model of guessing false all of the time!! WOO!!! This is the first step in making our model the best it can be."
   ]
  },
  {
   "cell_type": "markdown",
   "metadata": {},
   "source": [
    "### Dummy Variables\n",
    "Dummy variables are used when we are hoping to convert to a categorical feature into a quantitative one. Remember, we have two types of categorical features: nominal and ordinal. Ordinal features have natural order among them, while nominal data does not."
   ]
  },
  {
   "cell_type": "markdown",
   "metadata": {},
   "source": [
    "**Encoding qualitative (nominal) data using separate columns is called making dummy variables, and it works by turning each unique category of a nominal column into its own column that is either true or false** (note to self: I didn't do this when I ran my linear regression on the Kaggle bike data, GRRR, but I'm glad to learn this, this will be a useful piece of advice!!!"
   ]
  },
  {
   "cell_type": "markdown",
   "metadata": {},
   "source": [
    "In our bike example, define new column, called ```when_is_it```, which is going to be one of the following four options:\n",
    "- ```Morning```\n",
    "- ```Afternoon```\n",
    "- ```Rush_hour```\n",
    "- ```Off_hours```\n",
    "To do this, make new column that is simply the hour of the day, use the column to determine when in the day it is, and explore whether or not we think that column might help us predict the ```above_daily``` column:"
   ]
  },
  {
   "cell_type": "code",
   "execution_count": 50,
   "metadata": {},
   "outputs": [
    {
     "data": {
      "text/plain": [
       "0    0\n",
       "1    1\n",
       "2    2\n",
       "3    3\n",
       "4    4\n",
       "Name: hour, dtype: int64"
      ]
     },
     "execution_count": 50,
     "metadata": {},
     "output_type": "execute_result"
    }
   ],
   "source": [
    "bikes['hour'] = bikes['datetime'].apply(lambda x:int(x[11]+x[12]))\n",
    "#make a column that is just the hour of the day\n",
    "#note to self, I NEED to learn this lambda stuff!!!!\n",
    "\n",
    "bikes['hour'].head()"
   ]
  },
  {
   "cell_type": "code",
   "execution_count": 51,
   "metadata": {},
   "outputs": [],
   "source": [
    "# this function takes in an integer hour\n",
    "# and outputs one of our four options\n",
    "def when_is_it(hour):\n",
    "    if hour >=5 and hour < 11:\n",
    "        return 'morning'\n",
    "    elif hour >=11 and hour < 16:\n",
    "        return 'afternoon'\n",
    "    elif hour >=16 and hour < 18:\n",
    "        return 'rush_hour'\n",
    "    else:\n",
    "        return 'off_hours'"
   ]
  },
  {
   "cell_type": "code",
   "execution_count": 54,
   "metadata": {},
   "outputs": [
    {
     "data": {
      "text/plain": [
       "pandas.core.series.Series"
      ]
     },
     "execution_count": 54,
     "metadata": {},
     "output_type": "execute_result"
    }
   ],
   "source": [
    "type(bikes['count'])"
   ]
  },
  {
   "cell_type": "code",
   "execution_count": 55,
   "metadata": {},
   "outputs": [
    {
     "data": {
      "text/plain": [
       "pandas.core.frame.DataFrame"
      ]
     },
     "execution_count": 55,
     "metadata": {},
     "output_type": "execute_result"
    }
   ],
   "source": [
    "type(bikes)"
   ]
  },
  {
   "cell_type": "code",
   "execution_count": 56,
   "metadata": {},
   "outputs": [
    {
     "data": {
      "text/html": [
       "<div>\n",
       "<style scoped>\n",
       "    .dataframe tbody tr th:only-of-type {\n",
       "        vertical-align: middle;\n",
       "    }\n",
       "\n",
       "    .dataframe tbody tr th {\n",
       "        vertical-align: top;\n",
       "    }\n",
       "\n",
       "    .dataframe thead th {\n",
       "        text-align: right;\n",
       "    }\n",
       "</style>\n",
       "<table border=\"1\" class=\"dataframe\">\n",
       "  <thead>\n",
       "    <tr style=\"text-align: right;\">\n",
       "      <th></th>\n",
       "      <th>when_is_it</th>\n",
       "      <th>above_average</th>\n",
       "    </tr>\n",
       "  </thead>\n",
       "  <tbody>\n",
       "    <tr>\n",
       "      <th>0</th>\n",
       "      <td>off_hours</td>\n",
       "      <td>False</td>\n",
       "    </tr>\n",
       "    <tr>\n",
       "      <th>1</th>\n",
       "      <td>off_hours</td>\n",
       "      <td>False</td>\n",
       "    </tr>\n",
       "    <tr>\n",
       "      <th>2</th>\n",
       "      <td>off_hours</td>\n",
       "      <td>False</td>\n",
       "    </tr>\n",
       "    <tr>\n",
       "      <th>3</th>\n",
       "      <td>off_hours</td>\n",
       "      <td>False</td>\n",
       "    </tr>\n",
       "    <tr>\n",
       "      <th>4</th>\n",
       "      <td>off_hours</td>\n",
       "      <td>False</td>\n",
       "    </tr>\n",
       "  </tbody>\n",
       "</table>\n",
       "</div>"
      ],
      "text/plain": [
       "  when_is_it  above_average\n",
       "0  off_hours          False\n",
       "1  off_hours          False\n",
       "2  off_hours          False\n",
       "3  off_hours          False\n",
       "4  off_hours          False"
      ]
     },
     "execution_count": 56,
     "metadata": {},
     "output_type": "execute_result"
    }
   ],
   "source": [
    "# Series.apply() is how you apply functions to entries in Series\n",
    "bikes['when_is_it'] = bikes['hour'].apply(when_is_it)\n",
    "bikes[['when_is_it', 'above_average']].head()"
   ]
  },
  {
   "cell_type": "markdown",
   "metadata": {},
   "source": [
    "Before determining whether or not the hourly bike rental count will be above average, do basic exploratory data analysis and make a graph to see if we can visualize a difference between the four times of the day. \n",
    "\n",
    "Graph will be a bar chart with one bar per time of day, each bar represents the percentage of times that this time of day had a greater than normal bike rental:"
   ]
  },
  {
   "cell_type": "code",
   "execution_count": 62,
   "metadata": {},
   "outputs": [
    {
     "name": "stdout",
     "output_type": "stream",
     "text": [
      "<pandas.core.groupby.generic.SeriesGroupBy object at 0x0000025948CD2490>\n"
     ]
    }
   ],
   "source": [
    "print(bikes.groupby('when_is_it').above_average) \n",
    "#how can we call a mean on this?"
   ]
  },
  {
   "cell_type": "code",
   "execution_count": 58,
   "metadata": {},
   "outputs": [
    {
     "data": {
      "text/plain": [
       "<AxesSubplot:xlabel='when_is_it'>"
      ]
     },
     "execution_count": 58,
     "metadata": {},
     "output_type": "execute_result"
    },
    {
     "data": {
      "image/png": "[encoded data removed]",
      "text/plain": [
       "<Figure size 432x288 with 1 Axes>"
      ]
     },
     "metadata": {
      "needs_background": "light"
     },
     "output_type": "display_data"
    }
   ],
   "source": [
    "#dont understand so I'm adding cells above to figure out what's going on here:\n",
    "bikes.groupby('when_is_it').above_average.mean().plot(kind='bar')"
   ]
  },
  {
   "cell_type": "code",
   "execution_count": 64,
   "metadata": {},
   "outputs": [
    {
     "data": {
      "text/html": [
       "<div>\n",
       "<style scoped>\n",
       "    .dataframe tbody tr th:only-of-type {\n",
       "        vertical-align: middle;\n",
       "    }\n",
       "\n",
       "    .dataframe tbody tr th {\n",
       "        vertical-align: top;\n",
       "    }\n",
       "\n",
       "    .dataframe thead th {\n",
       "        text-align: right;\n",
       "    }\n",
       "</style>\n",
       "<table border=\"1\" class=\"dataframe\">\n",
       "  <thead>\n",
       "    <tr style=\"text-align: right;\">\n",
       "      <th></th>\n",
       "      <th>when___afternoon</th>\n",
       "      <th>when___morning</th>\n",
       "      <th>when___off_hours</th>\n",
       "      <th>when___rush_hour</th>\n",
       "    </tr>\n",
       "  </thead>\n",
       "  <tbody>\n",
       "    <tr>\n",
       "      <th>0</th>\n",
       "      <td>0</td>\n",
       "      <td>0</td>\n",
       "      <td>1</td>\n",
       "      <td>0</td>\n",
       "    </tr>\n",
       "    <tr>\n",
       "      <th>1</th>\n",
       "      <td>0</td>\n",
       "      <td>0</td>\n",
       "      <td>1</td>\n",
       "      <td>0</td>\n",
       "    </tr>\n",
       "    <tr>\n",
       "      <th>2</th>\n",
       "      <td>0</td>\n",
       "      <td>0</td>\n",
       "      <td>1</td>\n",
       "      <td>0</td>\n",
       "    </tr>\n",
       "    <tr>\n",
       "      <th>3</th>\n",
       "      <td>0</td>\n",
       "      <td>0</td>\n",
       "      <td>1</td>\n",
       "      <td>0</td>\n",
       "    </tr>\n",
       "    <tr>\n",
       "      <th>4</th>\n",
       "      <td>0</td>\n",
       "      <td>0</td>\n",
       "      <td>1</td>\n",
       "      <td>0</td>\n",
       "    </tr>\n",
       "  </tbody>\n",
       "</table>\n",
       "</div>"
      ],
      "text/plain": [
       "   when___afternoon  when___morning  when___off_hours  when___rush_hour\n",
       "0                 0               0                 1                 0\n",
       "1                 0               0                 1                 0\n",
       "2                 0               0                 1                 0\n",
       "3                 0               0                 1                 0\n",
       "4                 0               0                 1                 0"
      ]
     },
     "execution_count": 64,
     "metadata": {},
     "output_type": "execute_result"
    }
   ],
   "source": [
    "when_dummies = pd.get_dummies(bikes['when_is_it'], prefix = 'when__')\n",
    "when_dummies.head()"
   ]
  },
  {
   "cell_type": "code",
   "execution_count": 65,
   "metadata": {},
   "outputs": [
    {
     "data": {
      "text/html": [
       "<div>\n",
       "<style scoped>\n",
       "    .dataframe tbody tr th:only-of-type {\n",
       "        vertical-align: middle;\n",
       "    }\n",
       "\n",
       "    .dataframe tbody tr th {\n",
       "        vertical-align: top;\n",
       "    }\n",
       "\n",
       "    .dataframe thead th {\n",
       "        text-align: right;\n",
       "    }\n",
       "</style>\n",
       "<table border=\"1\" class=\"dataframe\">\n",
       "  <thead>\n",
       "    <tr style=\"text-align: right;\">\n",
       "      <th></th>\n",
       "      <th>when___morning</th>\n",
       "      <th>when___off_hours</th>\n",
       "      <th>when___rush_hour</th>\n",
       "    </tr>\n",
       "  </thead>\n",
       "  <tbody>\n",
       "    <tr>\n",
       "      <th>0</th>\n",
       "      <td>0</td>\n",
       "      <td>1</td>\n",
       "      <td>0</td>\n",
       "    </tr>\n",
       "    <tr>\n",
       "      <th>1</th>\n",
       "      <td>0</td>\n",
       "      <td>1</td>\n",
       "      <td>0</td>\n",
       "    </tr>\n",
       "    <tr>\n",
       "      <th>2</th>\n",
       "      <td>0</td>\n",
       "      <td>1</td>\n",
       "      <td>0</td>\n",
       "    </tr>\n",
       "    <tr>\n",
       "      <th>3</th>\n",
       "      <td>0</td>\n",
       "      <td>1</td>\n",
       "      <td>0</td>\n",
       "    </tr>\n",
       "    <tr>\n",
       "      <th>4</th>\n",
       "      <td>0</td>\n",
       "      <td>1</td>\n",
       "      <td>0</td>\n",
       "    </tr>\n",
       "  </tbody>\n",
       "</table>\n",
       "</div>"
      ],
      "text/plain": [
       "   when___morning  when___off_hours  when___rush_hour\n",
       "0               0                 1                 0\n",
       "1               0                 1                 0\n",
       "2               0                 1                 0\n",
       "3               0                 1                 0\n",
       "4               0                 1                 0"
      ]
     },
     "execution_count": 65,
     "metadata": {},
     "output_type": "execute_result"
    }
   ],
   "source": [
    "when_dummies=when_dummies.iloc[:, 1:]\n",
    "#remove the first column - seems like a useful function, I don't understand notation\n",
    "when_dummies.head()"
   ]
  },
  {
   "cell_type": "code",
   "execution_count": 68,
   "metadata": {},
   "outputs": [
    {
     "data": {
      "text/plain": [
       "0.6903012490815577"
      ]
     },
     "execution_count": 68,
     "metadata": {},
     "output_type": "execute_result"
    }
   ],
   "source": [
    "X = when_dummies\n",
    "# our new X is our dummy variables\n",
    "y=bikes.above_average\n",
    "\n",
    "X_train, X_test, y_train, y_test = train_test_split(X, y)\n",
    "# make our train test split, this wasn't in book, but I\"m including is\n",
    "# since I know its necessary\n",
    "\n",
    "logreg=LogisticRegression()\n",
    "#istantiate our model\n",
    "\n",
    "logreg.fit(X_train, y_train)\n",
    "# fit our model to our training set\n",
    "\n",
    "logreg.score(X_test, y_test)\n",
    "#score it on our test set to get a better sense of out of sample performance\n"
   ]
  },
  {
   "cell_type": "markdown",
   "metadata": {},
   "source": [
    "This is even better than just using temperature! So what if we added these on?"
   ]
  },
  {
   "cell_type": "code",
   "execution_count": 70,
   "metadata": {},
   "outputs": [
    {
     "data": {
      "text/plain": [
       "0.7619397501836884"
      ]
     },
     "execution_count": 70,
     "metadata": {},
     "output_type": "execute_result"
    }
   ],
   "source": [
    "new_bike = pd.concat([bikes[['temp', 'humidity']], when_dummies], axis=1) #combine temperature, humidity, and the dummy variable\n",
    "\n",
    "X=new_bike #our new X is our dummy variables\n",
    "\n",
    "y = bikes.above_average\n",
    "\n",
    "X_train, X_test, y_train, y_test = train_test_split(X, y)\n",
    "# make our train test split\n",
    "\n",
    "logreg = LogisticRegression() #instantiate our model\n",
    "\n",
    "logreg.fit(X_train, y_train) #fit model to training set\n",
    "\n",
    "logreg.score(X_test, y_test) #score on test set to get better sense of sample performance"
   ]
  },
  {
   "cell_type": "markdown",
   "metadata": {},
   "source": [
    "Wowzers, that's much better!!!"
   ]
  },
  {
   "cell_type": "code",
   "execution_count": null,
   "metadata": {},
   "outputs": [],
   "source": []
  }
 ],
 "metadata": {
  "kernelspec": {
   "display_name": "Python 3",
   "language": "python",
   "name": "python3"
  },
  "language_info": {
   "codemirror_mode": {
    "name": "ipython",
    "version": 3
   },
   "file_extension": ".py",
   "mimetype": "text/x-python",
   "name": "python",
   "nbconvert_exporter": "python",
   "pygments_lexer": "ipython3",
   "version": "3.8.4"
  }
 },
 "nbformat": 4,
 "nbformat_minor": 4
}
