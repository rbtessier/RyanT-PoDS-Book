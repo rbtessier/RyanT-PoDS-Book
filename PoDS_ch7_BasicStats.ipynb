{
 "cells": [
  {
   "cell_type": "markdown",
   "metadata": {},
   "source": [
    "# Basic Statistics\n",
    "\n",
    "Topics Covered:\n",
    "- Statistics vs parameters (population vs sample)\n",
    "- Obtaining data (Observational vs Experimental)\n",
    "- Sampling Data\n",
    "  - Random Sampling - they don't describe what sampling bias is very well (chose sample incorrectly isnt a great explanation - confounding factors are better explained).\n",
    "  - unequal probability sampling (totally random sampling can reduce the voice of the minority and give an innacurrate picture, so sometimes you need to sample more from smaller groups to get a picture - employee satisfaction is a good example)\n",
    "- How do we measure Statistics?\n",
    "  - Measures of Center\n",
    "    - mean\n",
    "    - median\n",
    "  - Measures of Variation\n",
    "    - range\n",
    "    - standard deviation\n",
    "    - coefficient of variation (useful for comparing acros datasets, only for ratio level data)\n",
    "- Correlations in data\n",
    "  - Correlation coefficients\n",
    "- The Empirical Rule\n",
    "\n",
    "**Population** is the entire pool of subjects of an experiment or model. A **parameter** is a numerical measure of a characteristic of a population. **Sample** is a subject of a population, a **statistic** is a numerical measurement describing a characteristic of a sample of a popoulation.\n",
    "\n",
    "In the first experiment we do an A/B testing example where we have a list of tuples with the version as the first tuple and whether the customer bought as the second tuple. We don't have the data so I will have to generate it below. They state the total number of people exposed to any website was 346."
   ]
  },
  {
   "cell_type": "code",
   "execution_count": 8,
   "metadata": {},
   "outputs": [
    {
     "name": "stdout",
     "output_type": "stream",
     "text": [
      "1\n",
      "0\n",
      "[['B', 1], ['A', 1], ['A', 0], ['B', 1], ['A', 0], ['B', 0], ['B', 1], ['B', 1], ['B', 0], ['A', 0], ['B', 1], ['A', 0], ['A', 1], ['A', 1], ['B', 1], ['A', 0], ['B', 0], ['A', 0], ['A', 1], ['B', 0], ['B', 1], ['A', 1], ['A', 0], ['B', 1], ['A', 1], ['A', 1], ['B', 0], ['A', 1], ['B', 0], ['B', 1], ['A', 1], ['A', 1], ['A', 0], ['B', 1], ['B', 1], ['B', 1], ['B', 1], ['A', 1], ['B', 1], ['A', 0], ['B', 1], ['A', 1], ['A', 0], ['A', 1], ['B', 1], ['B', 1], ['A', 0], ['B', 0], ['B', 0], ['A', 0], ['A', 1], ['A', 0], ['B', 1], ['A', 1], ['B', 0], ['A', 0], ['A', 0], ['B', 0], ['B', 0], ['B', 0], ['B', 0], ['B', 0], ['B', 1], ['B', 1], ['A', 0], ['B', 0], ['A', 1], ['B', 1], ['B', 0], ['B', 1], ['B', 0], ['A', 1], ['B', 1], ['A', 0], ['B', 1], ['A', 1], ['A', 1], ['B', 0], ['B', 0], ['A', 0], ['B', 0], ['B', 1], ['A', 0], ['A', 0], ['B', 0], ['A', 0], ['A', 0], ['B', 0], ['A', 1], ['A', 0], ['B', 0], ['A', 0], ['A', 1], ['B', 1], ['A', 0], ['A', 0], ['B', 1], ['A', 0], ['A', 1], ['A', 1], ['B', 0], ['B', 0], ['A', 1], ['A', 1], ['A', 0], ['A', 0], ['B', 1], ['B', 0], ['B', 0], ['B', 1], ['B', 0], ['A', 1], ['A', 0], ['B', 1], ['A', 0], ['A', 0], ['B', 0], ['A', 1], ['A', 0], ['A', 1], ['B', 1], ['B', 1], ['B', 0], ['B', 1], ['B', 0], ['B', 0], ['A', 0], ['B', 1], ['B', 1], ['A', 0], ['A', 0], ['B', 0], ['A', 1], ['B', 0], ['A', 0], ['B', 1], ['A', 0], ['A', 0], ['B', 1], ['A', 1], ['A', 0], ['A', 1], ['B', 1], ['A', 0], ['B', 0], ['A', 0], ['B', 1], ['A', 0], ['A', 1], ['B', 0], ['B', 0], ['B', 1], ['B', 1], ['A', 1], ['B', 1], ['A', 1], ['A', 1], ['A', 0], ['B', 1], ['B', 0], ['A', 0], ['A', 0], ['B', 0], ['A', 0], ['A', 0], ['A', 0], ['B', 0], ['B', 1], ['B', 0], ['B', 1], ['A', 1], ['B', 1], ['B', 0], ['B', 0], ['A', 0], ['B', 1], ['A', 0], ['B', 0], ['A', 0], ['B', 0], ['B', 1], ['B', 0], ['A', 1], ['B', 0], ['B', 0], ['B', 1], ['B', 1], ['A', 1], ['A', 1], ['B', 0], ['B', 1], ['B', 1], ['B', 0], ['A', 0], ['B', 0], ['A', 1], ['B', 1], ['B', 1], ['A', 0], ['B', 1], ['A', 1], ['A', 1], ['A', 1], ['A', 0], ['A', 0], ['B', 1], ['A', 0], ['B', 0], ['B', 1], ['A', 0], ['A', 1], ['A', 1], ['B', 0], ['A', 0], ['A', 0], ['A', 0], ['A', 0], ['A', 1], ['A', 1], ['B', 1], ['A', 0], ['A', 1], ['B', 1], ['A', 0], ['A', 1], ['A', 1], ['B', 1], ['B', 1], ['A', 1], ['B', 0], ['A', 1], ['B', 0], ['A', 0], ['A', 0], ['B', 1], ['A', 1], ['A', 0], ['A', 0], ['A', 0], ['A', 0], ['B', 0], ['B', 0], ['A', 1], ['B', 1], ['B', 1], ['A', 0], ['B', 0], ['B', 1], ['A', 0], ['B', 0], ['B', 1], ['A', 1], ['A', 1], ['A', 0], ['B', 1], ['A', 1], ['A', 0], ['A', 0], ['A', 1], ['A', 0], ['B', 1], ['A', 0], ['A', 0], ['B', 0], ['B', 0], ['B', 1], ['B', 1], ['A', 0], ['B', 0], ['B', 0], ['B', 1], ['B', 0], ['A', 1], ['A', 1], ['B', 1], ['B', 1], ['B', 0], ['A', 1], ['B', 1], ['B', 0], ['A', 1], ['B', 1], ['B', 0], ['B', 0], ['B', 1], ['A', 1], ['A', 1], ['A', 0], ['A', 1], ['B', 1], ['A', 0], ['A', 0], ['B', 1], ['B', 0], ['B', 1], ['B', 0], ['B', 0], ['B', 1], ['A', 1], ['B', 1], ['A', 1], ['B', 1], ['A', 0], ['A', 1], ['B', 0], ['A', 0], ['A', 1], ['B', 1], ['B', 0], ['A', 0], ['B', 0], ['A', 0], ['A', 0], ['B', 0], ['A', 0], ['B', 0], ['A', 0], ['B', 1], ['A', 0], ['A', 0], ['B', 0], ['A', 0], ['B', 1], ['B', 0], ['A', 1], ['A', 0], ['B', 0], ['B', 1], ['A', 1], ['B', 1], ['A', 0], ['B', 1], ['B', 0], ['B', 0], ['A', 1], ['A', 0], ['A', 0], ['A', 0], ['A', 1], ['B', 1], ['B', 0], ['B', 0], ['B', 0], ['A', 1], ['B', 1], ['B', 1]]\n"
     ]
    }
   ],
   "source": [
    "import random\n",
    "\n",
    "#produces a random 'A' 'B'\n",
    "def int_to_AB(binary_int):\n",
    "    if binary_int == 0:\n",
    "        return 'A'\n",
    "    else:\n",
    "        return'B'\n",
    "\n",
    "results=[]\n",
    "\n",
    "sample_size =range(0, 346)\n",
    "\n",
    "#generates each pair [website, conversion] randomly and adds to list\n",
    "for sample in sample_size:\n",
    "    results.append([int_to_AB(random.randint(0,1)), random.randint(0,1)])\n",
    "\n",
    "print(random.randint(0,1))\n",
    "print(random.randint(0,1))\n",
    "\n",
    "print(results)"
   ]
  },
  {
   "cell_type": "code",
   "execution_count": 9,
   "metadata": {},
   "outputs": [
    {
     "name": "stdout",
     "output_type": "stream",
     "text": [
      "171\n",
      "175\n"
     ]
    }
   ],
   "source": [
    "users_exposed_to_A= []\n",
    "users_exposed_to_B= []\n",
    "#two lists to hold the results of each individual website\n",
    "\n",
    "for [website, converted] in results:\n",
    "    if website == 'A':\n",
    "        users_exposed_to_A.append(converted)\n",
    "    elif website == 'B':\n",
    "        users_exposed_to_B.append(converted)\n",
    "#very cool, I just tried this form of looping, but surpri\n",
    "        \n",
    "print(len(users_exposed_to_A))\n",
    "print(len(users_exposed_to_B))"
   ]
  },
  {
   "cell_type": "code",
   "execution_count": 10,
   "metadata": {},
   "outputs": [
    {
     "name": "stdout",
     "output_type": "stream",
     "text": [
      "74\n"
     ]
    }
   ],
   "source": [
    "print(sum(users_exposed_to_A))"
   ]
  },
  {
   "cell_type": "code",
   "execution_count": 11,
   "metadata": {},
   "outputs": [
    {
     "name": "stdout",
     "output_type": "stream",
     "text": [
      "91\n"
     ]
    }
   ],
   "source": [
    "print(sum(users_exposed_to_B))"
   ]
  },
  {
   "cell_type": "code",
   "execution_count": 25,
   "metadata": {},
   "outputs": [
    {
     "data": {
      "image/png": "[encoded data removed]",
      "text/plain": [
       "<Figure size 432x288 with 1 Axes>"
      ]
     },
     "metadata": {
      "needs_background": "light"
     },
     "output_type": "display_data"
    }
   ],
   "source": [
    "import numpy as np\n",
    "from matplotlib import pyplot as plt\n",
    "\n",
    "table_data = [[len(users_exposed_to_A) - sum(users_exposed_to_A), sum(users_exposed_to_A)],\n",
    "              [len(users_exposed_to_B) - sum(users_exposed_to_B), sum(users_exposed_to_B)]]\n",
    "\n",
    "columns = ('Did not sign up', 'Signed up')\n",
    "rows = ('Website A', 'Website B')\n",
    "\n",
    "# Add a table at the bottom of the axes\n",
    "the_table = plt.table(cellText=table_data,rowLabels=rows, colLabels=columns, loc = 'top')\n",
    "plt.subplots_adjust(left=0.2, top = 0.8) #make room for table\n",
    "plt.show()\n",
    "#need to find a better way to do all this!!!!"
   ]
  },
  {
   "cell_type": "code",
   "execution_count": 26,
   "metadata": {},
   "outputs": [
    {
     "name": "stdout",
     "output_type": "stream",
     "text": [
      "Conversions for Website A: 0.44047619047619047\n",
      "Conversions for Website B: 0.52\n"
     ]
    }
   ],
   "source": [
    "#conversions for website A\n",
    "print('Conversion rate for Website A: ' + str(74/(94+74)))\n",
    "print('Conversion rate for Website B: ' + str(91/(84+91)))"
   ]
  },
  {
   "cell_type": "markdown",
   "metadata": {},
   "source": [
    "From above it appears that our website B increases the conversion rate quite significantly, however, to truly test significant, we will need use hypothesis testing."
   ]
  },
  {
   "cell_type": "code",
   "execution_count": 29,
   "metadata": {},
   "outputs": [
    {
     "data": {
      "text/plain": [
       "14.25"
      ]
     },
     "execution_count": 29,
     "metadata": {},
     "output_type": "execute_result"
    }
   ],
   "source": [
    "np.mean([11, 15, 17, 14])"
   ]
  },
  {
   "cell_type": "code",
   "execution_count": 30,
   "metadata": {},
   "outputs": [
    {
     "data": {
      "text/plain": [
       "17.6"
      ]
     },
     "execution_count": 30,
     "metadata": {},
     "output_type": "execute_result"
    }
   ],
   "source": [
    "np.mean([11, 15, 17, 14, 31])"
   ]
  },
  {
   "cell_type": "code",
   "execution_count": 31,
   "metadata": {},
   "outputs": [
    {
     "data": {
      "text/plain": [
       "14.5"
      ]
     },
     "execution_count": 31,
     "metadata": {},
     "output_type": "execute_result"
    }
   ],
   "source": [
    "np.median([11, 15, 17, 14])"
   ]
  },
  {
   "cell_type": "code",
   "execution_count": 32,
   "metadata": {},
   "outputs": [
    {
     "data": {
      "text/plain": [
       "15.0"
      ]
     },
     "execution_count": 32,
     "metadata": {},
     "output_type": "execute_result"
    }
   ],
   "source": [
    "np.median([11, 15, 17, 14, 31])"
   ]
  },
  {
   "cell_type": "markdown",
   "metadata": {},
   "source": [
    "As we can see above, the median is less sensitive to outliers"
   ]
  },
  {
   "cell_type": "code",
   "execution_count": 33,
   "metadata": {},
   "outputs": [
    {
     "name": "stdout",
     "output_type": "stream",
     "text": [
      "789.0833333333334\n"
     ]
    }
   ],
   "source": [
    "#consider sample of 24 friends on Facebook and how many friends they have\n",
    "friends = [109, 1017, 1127, 418, 625, 957, 89, 950, 946, 797, 981, \n",
    "           125, 455, 731, 1640, 485, 1309, 472, 1132, 1773, 906, 531, 742, 621]\n",
    "print(np.mean(friends))"
   ]
  },
  {
   "cell_type": "code",
   "execution_count": 34,
   "metadata": {},
   "outputs": [
    {
     "name": "stdout",
     "output_type": "stream",
     "text": [
      "769.5\n"
     ]
    }
   ],
   "source": [
    "print(np.median(friends))"
   ]
  },
  {
   "cell_type": "markdown",
   "metadata": {},
   "source": [
    "Above, both the median and the mean are high, but there are a few outliers which are not well described by this mean. We need some way to describe how spread out this data is - measure of variation!"
   ]
  },
  {
   "cell_type": "code",
   "execution_count": 35,
   "metadata": {},
   "outputs": [
    {
     "name": "stdout",
     "output_type": "stream",
     "text": [
      "1684\n"
     ]
    }
   ],
   "source": [
    "#range\n",
    "print(np.max(friends) - np.min(friends))"
   ]
  },
  {
   "cell_type": "code",
   "execution_count": 36,
   "metadata": {},
   "outputs": [
    {
     "data": {
      "text/plain": [
       "425.1862255399261"
      ]
     },
     "execution_count": 36,
     "metadata": {},
     "output_type": "execute_result"
    }
   ],
   "source": [
    "np.std(friends)"
   ]
  },
  {
   "cell_type": "code",
   "execution_count": 41,
   "metadata": {},
   "outputs": [
    {
     "name": "stdout",
     "output_type": "stream",
     "text": [
      "range(0, 24)\n"
     ]
    },
    {
     "data": {
      "text/plain": [
       "[<matplotlib.lines.Line2D at 0x1f416171d00>]"
      ]
     },
     "execution_count": 41,
     "metadata": {},
     "output_type": "execute_result"
    },
    {
     "data": {
      "image/png": "[encoded data removed]",
      "text/plain": [
       "<Figure size 432x288 with 1 Axes>"
      ]
     },
     "metadata": {
      "needs_background": "light"
     },
     "output_type": "display_data"
    }
   ],
   "source": [
    "y_pos = range(len(friends))\n",
    "print(y_pos)\n",
    "plt.bar(y_pos, friends) #draws bar chart with y_pos being the x values, friends being the y values\n",
    "#plots lines from 0-25 x coordinate, (y1, y2) in y coordinate y1=y2, so straight line, 'b-' means blue\n",
    "plt.plot((0,25), (789, 789), 'b-')\n",
    "plt.plot((0,25), (789+425, 789+425), 'g-')\n",
    "\n",
    "plt.plot((0,25), (789-425, 789-425), 'r-')"
   ]
  },
  {
   "cell_type": "code",
   "execution_count": 42,
   "metadata": {},
   "outputs": [
    {
     "data": {
      "text/plain": [
       "<BarContainer object of 24 artists>"
      ]
     },
     "execution_count": 42,
     "metadata": {},
     "output_type": "execute_result"
    },
    {
     "data": {
      "image/png": "[encoded data removed]",
      "text/plain": [
       "<Figure size 432x288 with 1 Axes>"
      ]
     },
     "metadata": {
      "needs_background": "light"
     },
     "output_type": "display_data"
    }
   ],
   "source": [
    "z_scores = []\n",
    "m = np.mean(friends) #average friends on fb\n",
    "s = np.std(friends) #standard deviation friends on FB\n",
    "\n",
    "for friend in friends:\n",
    "    z = (friend-m)/s #z score\n",
    "    z_scores.append(z) #make a list of the scores for plotting\n",
    "    \n",
    "plt.bar(y_pos, z_scores)"
   ]
  },
  {
   "cell_type": "code",
   "execution_count": 43,
   "metadata": {},
   "outputs": [
    {
     "data": {
      "text/plain": [
       "[<matplotlib.lines.Line2D at 0x1f41533e130>]"
      ]
     },
     "execution_count": 43,
     "metadata": {},
     "output_type": "execute_result"
    },
    {
     "data": {
      "image/png": "[encoded data removed]",
      "text/plain": [
       "<Figure size 432x288 with 1 Axes>"
      ]
     },
     "metadata": {
      "needs_background": "light"
     },
     "output_type": "display_data"
    }
   ],
   "source": [
    "plt.bar(y_pos, z_scores)\n",
    "plt.plot((0, 25), (1, 1), 'g-')\n",
    "plt.plot((0, 25), (0, 0), 'b-')\n",
    "plt.plot((0, 25), (-1,-1), 'r-')"
   ]
  },
  {
   "cell_type": "code",
   "execution_count": 47,
   "metadata": {},
   "outputs": [
    {
     "data": {
      "text/html": [
       "<div>\n",
       "<style scoped>\n",
       "    .dataframe tbody tr th:only-of-type {\n",
       "        vertical-align: middle;\n",
       "    }\n",
       "\n",
       "    .dataframe tbody tr th {\n",
       "        vertical-align: top;\n",
       "    }\n",
       "\n",
       "    .dataframe thead th {\n",
       "        text-align: right;\n",
       "    }\n",
       "</style>\n",
       "<table border=\"1\" class=\"dataframe\">\n",
       "  <thead>\n",
       "    <tr style=\"text-align: right;\">\n",
       "      <th></th>\n",
       "      <th>friends</th>\n",
       "      <th>happiness</th>\n",
       "    </tr>\n",
       "  </thead>\n",
       "  <tbody>\n",
       "    <tr>\n",
       "      <th>0</th>\n",
       "      <td>109</td>\n",
       "      <td>0.8</td>\n",
       "    </tr>\n",
       "    <tr>\n",
       "      <th>1</th>\n",
       "      <td>1017</td>\n",
       "      <td>0.6</td>\n",
       "    </tr>\n",
       "    <tr>\n",
       "      <th>2</th>\n",
       "      <td>1127</td>\n",
       "      <td>0.3</td>\n",
       "    </tr>\n",
       "    <tr>\n",
       "      <th>3</th>\n",
       "      <td>418</td>\n",
       "      <td>0.6</td>\n",
       "    </tr>\n",
       "    <tr>\n",
       "      <th>4</th>\n",
       "      <td>625</td>\n",
       "      <td>0.6</td>\n",
       "    </tr>\n",
       "  </tbody>\n",
       "</table>\n",
       "</div>"
      ],
      "text/plain": [
       "   friends  happiness\n",
       "0      109        0.8\n",
       "1     1017        0.6\n",
       "2     1127        0.3\n",
       "3      418        0.6\n",
       "4      625        0.6"
      ]
     },
     "execution_count": 47,
     "metadata": {},
     "output_type": "execute_result"
    }
   ],
   "source": [
    "happiness = [.8, .6, .3, .6, .6, .4, .8, .5, .4, .3, .3, .6, .2, .8,\n",
    "            1, .6, .2, .7, .5, .3, .1, 0, .3, 1]\n",
    "\n",
    "import pandas as pd\n",
    "\n",
    "df = pd.DataFrame({'friends': friends, 'happiness': happiness}) #make dataframe with columns friends and happiness\n",
    "df.head()"
   ]
  },
  {
   "cell_type": "code",
   "execution_count": 49,
   "metadata": {},
   "outputs": [
    {
     "data": {
      "text/html": [
       "<div>\n",
       "<style scoped>\n",
       "    .dataframe tbody tr th:only-of-type {\n",
       "        vertical-align: middle;\n",
       "    }\n",
       "\n",
       "    .dataframe tbody tr th {\n",
       "        vertical-align: top;\n",
       "    }\n",
       "\n",
       "    .dataframe thead th {\n",
       "        text-align: right;\n",
       "    }\n",
       "</style>\n",
       "<table border=\"1\" class=\"dataframe\">\n",
       "  <thead>\n",
       "    <tr style=\"text-align: right;\">\n",
       "      <th></th>\n",
       "      <th>friends_scaled</th>\n",
       "      <th>happiness_scaled</th>\n",
       "    </tr>\n",
       "  </thead>\n",
       "  <tbody>\n",
       "    <tr>\n",
       "      <th>0</th>\n",
       "      <td>-1.599495</td>\n",
       "      <td>1.153223</td>\n",
       "    </tr>\n",
       "    <tr>\n",
       "      <th>1</th>\n",
       "      <td>0.536040</td>\n",
       "      <td>0.394939</td>\n",
       "    </tr>\n",
       "    <tr>\n",
       "      <th>2</th>\n",
       "      <td>0.794750</td>\n",
       "      <td>-0.742486</td>\n",
       "    </tr>\n",
       "    <tr>\n",
       "      <th>3</th>\n",
       "      <td>-0.872755</td>\n",
       "      <td>0.394939</td>\n",
       "    </tr>\n",
       "    <tr>\n",
       "      <th>4</th>\n",
       "      <td>-0.385909</td>\n",
       "      <td>0.394939</td>\n",
       "    </tr>\n",
       "  </tbody>\n",
       "</table>\n",
       "</div>"
      ],
      "text/plain": [
       "   friends_scaled  happiness_scaled\n",
       "0       -1.599495          1.153223\n",
       "1        0.536040          0.394939\n",
       "2        0.794750         -0.742486\n",
       "3       -0.872755          0.394939\n",
       "4       -0.385909          0.394939"
      ]
     },
     "execution_count": 49,
     "metadata": {},
     "output_type": "execute_result"
    }
   ],
   "source": [
    "#in some machine-learning/statistical modeling, we need to standardize scales, so lets use a package from scikit-learn\n",
    "from sklearn import preprocessing\n",
    "\n",
    "df_scaled = pd.DataFrame(preprocessing.scale(df), columns = ['friends_scaled', 'happiness_scaled'])\n",
    "\n",
    "df_scaled.head()"
   ]
  },
  {
   "cell_type": "markdown",
   "metadata": {},
   "source": [
    "Note that the preprocessing is doing the following things separately for each column:\n",
    "- Finding the mean of the column\n",
    "- Finding the standard deviation of the column\n",
    "- Applying the z-score function to each element in the column"
   ]
  },
  {
   "cell_type": "code",
   "execution_count": 50,
   "metadata": {},
   "outputs": [
    {
     "data": {
      "text/plain": [
       "<AxesSubplot:xlabel='friends_scaled', ylabel='happiness_scaled'>"
      ]
     },
     "execution_count": 50,
     "metadata": {},
     "output_type": "execute_result"
    },
    {
     "data": {
      "image/png": "[encoded data removed]",
      "text/plain": [
       "<Figure size 432x288 with 1 Axes>"
      ]
     },
     "metadata": {
      "needs_background": "light"
     },
     "output_type": "display_data"
    }
   ],
   "source": [
    "df_scaled.plot(kind='scatter', x='friends_scaled', y='happiness_scaled')"
   ]
  },
  {
   "cell_type": "markdown",
   "metadata": {},
   "source": [
    "Many machine learning algorithms require this type of scaling for model optimization"
   ]
  },
  {
   "cell_type": "code",
   "execution_count": 51,
   "metadata": {},
   "outputs": [
    {
     "data": {
      "text/html": [
       "<div>\n",
       "<style scoped>\n",
       "    .dataframe tbody tr th:only-of-type {\n",
       "        vertical-align: middle;\n",
       "    }\n",
       "\n",
       "    .dataframe tbody tr th {\n",
       "        vertical-align: top;\n",
       "    }\n",
       "\n",
       "    .dataframe thead th {\n",
       "        text-align: right;\n",
       "    }\n",
       "</style>\n",
       "<table border=\"1\" class=\"dataframe\">\n",
       "  <thead>\n",
       "    <tr style=\"text-align: right;\">\n",
       "      <th></th>\n",
       "      <th>friends</th>\n",
       "      <th>happiness</th>\n",
       "    </tr>\n",
       "  </thead>\n",
       "  <tbody>\n",
       "    <tr>\n",
       "      <th>friends</th>\n",
       "      <td>1.000000</td>\n",
       "      <td>-0.216199</td>\n",
       "    </tr>\n",
       "    <tr>\n",
       "      <th>happiness</th>\n",
       "      <td>-0.216199</td>\n",
       "      <td>1.000000</td>\n",
       "    </tr>\n",
       "  </tbody>\n",
       "</table>\n",
       "</div>"
      ],
      "text/plain": [
       "            friends  happiness\n",
       "friends    1.000000  -0.216199\n",
       "happiness -0.216199   1.000000"
      ]
     },
     "execution_count": 51,
     "metadata": {},
     "output_type": "execute_result"
    }
   ],
   "source": [
    "df.corr()"
   ]
  },
  {
   "cell_type": "markdown",
   "metadata": {},
   "source": [
    "Caution, correlation coefficients measure linear relationship, relationship may be nonlinear even if a linear relationship doesn't exist."
   ]
  },
  {
   "cell_type": "code",
   "execution_count": 54,
   "metadata": {},
   "outputs": [
    {
     "data": {
      "text/plain": [
       "0.75"
      ]
     },
     "execution_count": 54,
     "metadata": {},
     "output_type": "execute_result"
    }
   ],
   "source": [
    "#finding th epercentage of people within one standard deviation of the mean\n",
    "within_1_std = df_scaled[(df_scaled['friends_scaled'] <=1) & (df_scaled['friends_scaled']>=-1)].shape[0]\n",
    "within_1_std /float(df_scaled.shape[0])"
   ]
  },
  {
   "cell_type": "code",
   "execution_count": 57,
   "metadata": {},
   "outputs": [
    {
     "data": {
      "text/plain": [
       "0.9166666666666666"
      ]
     },
     "execution_count": 57,
     "metadata": {},
     "output_type": "execute_result"
    }
   ],
   "source": [
    "#2 std\n",
    "within_2_std = df_scaled[(df_scaled['friends_scaled'] <=2) & (df_scaled['friends_scaled']>=-2)].shape[0]\n",
    "within_2_std /float(df_scaled.shape[0])"
   ]
  },
  {
   "cell_type": "code",
   "execution_count": 56,
   "metadata": {},
   "outputs": [
    {
     "data": {
      "text/plain": [
       "1.0"
      ]
     },
     "execution_count": 56,
     "metadata": {},
     "output_type": "execute_result"
    }
   ],
   "source": [
    "3 std\n",
    "within_3_std = df_scaled[(df_scaled['friends_scaled'] <=3) & (df_scaled['friends_scaled']>=-3)].shape[0]\n",
    "within_3_std /float(df_scaled.shape[0])"
   ]
  },
  {
   "cell_type": "code",
   "execution_count": null,
   "metadata": {},
   "outputs": [],
   "source": []
  }
 ],
 "metadata": {
  "kernelspec": {
   "display_name": "Python 3",
   "language": "python",
   "name": "python3"
  },
  "language_info": {
   "codemirror_mode": {
    "name": "ipython",
    "version": 3
   },
   "file_extension": ".py",
   "mimetype": "text/x-python",
   "name": "python",
   "nbconvert_exporter": "python",
   "pygments_lexer": "ipython3",
   "version": "3.8.4"
  }
 },
 "nbformat": 4,
 "nbformat_minor": 4
}
